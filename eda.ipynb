{
 "cells": [
  {
   "cell_type": "code",
   "execution_count": 1,
   "id": "59ffd580",
   "metadata": {},
   "outputs": [],
   "source": [
    "import pandas as pd\n",
    "import json\n",
    "import geopandas as gpd\n",
    "import plotly.express as px\n",
    "import plotly.figure_factory as ff\n",
    "import plotly.graph_objects as go\n",
    "import re\n",
    "import seaborn as sns"
   ]
  },
  {
   "cell_type": "markdown",
   "id": "a82798d5",
   "metadata": {},
   "source": [
    "# Data"
   ]
  },
  {
   "cell_type": "code",
   "execution_count": 4,
   "id": "57e58aab",
   "metadata": {
    "scrolled": true
   },
   "outputs": [
    {
     "data": {
      "text/html": [
       "<div>\n",
       "<style scoped>\n",
       "    .dataframe tbody tr th:only-of-type {\n",
       "        vertical-align: middle;\n",
       "    }\n",
       "\n",
       "    .dataframe tbody tr th {\n",
       "        vertical-align: top;\n",
       "    }\n",
       "\n",
       "    .dataframe thead th {\n",
       "        text-align: right;\n",
       "    }\n",
       "</style>\n",
       "<table border=\"1\" class=\"dataframe\">\n",
       "  <thead>\n",
       "    <tr style=\"text-align: right;\">\n",
       "      <th></th>\n",
       "      <th>name</th>\n",
       "      <th>vacancy_rate</th>\n",
       "      <th>rental_stock</th>\n",
       "      <th>population</th>\n",
       "      <th>rental_pop</th>\n",
       "      <th>region</th>\n",
       "      <th>state</th>\n",
       "    </tr>\n",
       "  </thead>\n",
       "  <tbody>\n",
       "    <tr>\n",
       "      <th>0</th>\n",
       "      <td>Braidwood</td>\n",
       "      <td>0.55</td>\n",
       "      <td>5</td>\n",
       "      <td>1647.0</td>\n",
       "      <td>21.54</td>\n",
       "      <td>Queanbeyan-Palerang Regional</td>\n",
       "      <td>New South Wales</td>\n",
       "    </tr>\n",
       "    <tr>\n",
       "      <th>1</th>\n",
       "      <td>Karabar</td>\n",
       "      <td>0.83</td>\n",
       "      <td>29</td>\n",
       "      <td>8241.0</td>\n",
       "      <td>26.85</td>\n",
       "      <td>Queanbeyan-Palerang Regional</td>\n",
       "      <td>New South Wales</td>\n",
       "    </tr>\n",
       "    <tr>\n",
       "      <th>2</th>\n",
       "      <td>Queanbeyan</td>\n",
       "      <td>1.41</td>\n",
       "      <td>48</td>\n",
       "      <td>6236.0</td>\n",
       "      <td>38.85</td>\n",
       "      <td>Queanbeyan-Palerang Regional</td>\n",
       "      <td>New South Wales</td>\n",
       "    </tr>\n",
       "    <tr>\n",
       "      <th>3</th>\n",
       "      <td>Queanbeyan West</td>\n",
       "      <td>1.24</td>\n",
       "      <td>17</td>\n",
       "      <td>3136.0</td>\n",
       "      <td>29.31</td>\n",
       "      <td>Queanbeyan-Palerang Regional</td>\n",
       "      <td>New South Wales</td>\n",
       "    </tr>\n",
       "    <tr>\n",
       "      <th>4</th>\n",
       "      <td>Jerrabomberra</td>\n",
       "      <td>0.63</td>\n",
       "      <td>21</td>\n",
       "      <td>9505.0</td>\n",
       "      <td>19.90</td>\n",
       "      <td>Queanbeyan-Palerang Regional</td>\n",
       "      <td>New South Wales</td>\n",
       "    </tr>\n",
       "  </tbody>\n",
       "</table>\n",
       "</div>"
      ],
      "text/plain": [
       "              name  vacancy_rate  rental_stock  population  rental_pop  \\\n",
       "0        Braidwood          0.55             5      1647.0       21.54   \n",
       "1          Karabar          0.83            29      8241.0       26.85   \n",
       "2       Queanbeyan          1.41            48      6236.0       38.85   \n",
       "3  Queanbeyan West          1.24            17      3136.0       29.31   \n",
       "4    Jerrabomberra          0.63            21      9505.0       19.90   \n",
       "\n",
       "                         region            state  \n",
       "0  Queanbeyan-Palerang Regional  New South Wales  \n",
       "1  Queanbeyan-Palerang Regional  New South Wales  \n",
       "2  Queanbeyan-Palerang Regional  New South Wales  \n",
       "3  Queanbeyan-Palerang Regional  New South Wales  \n",
       "4  Queanbeyan-Palerang Regional  New South Wales  "
      ]
     },
     "execution_count": 4,
     "metadata": {},
     "output_type": "execute_result"
    }
   ],
   "source": [
    "df = pd.read_csv(\"df_data_suburbs.csv\")\n",
    "df.head()"
   ]
  },
  {
   "cell_type": "code",
   "execution_count": null,
   "id": "eeafa09c",
   "metadata": {},
   "outputs": [],
   "source": [
    "states = list(df[\"state\"].unique()[:-1])\n",
    "\n",
    "def remove_outliers(df):\n",
    "    \"\"\"Filter outliers.\"\"\"\n",
    "    q1 = df.quantile(0.25)\n",
    "    q3 = df.quantile(0.75)\n",
    "    iqr = q3 - q1\n",
    "    upper_thresh = q3 + 1.5*iqr\n",
    "    \n",
    "    return df[df < upper_thresh]\n",
    "\n",
    "def create_distplot_by_state(stat):\n",
    "    stat_by_state = {state: remove_outliers(df[stat][df[\"state\"] == state].dropna()) for state in states}\n",
    "    \n",
    "    # group data together\n",
    "    hist_data = list(stat_by_state.values())\n",
    "    group_labels = list(stat_by_state.keys())\n",
    "\n",
    "    # create distplot with custom bin_size\n",
    "    fig = ff.create_distplot(hist_data, group_labels, show_hist=False, bin_size=0.1)\n",
    "    fig.update_layout(\n",
    "        title=f\"Suburb {stat.replace('_', ' ').title()} Distribution by State\", \n",
    "        template=\"seaborn\"\n",
    "    )\n",
    "    fig.show()"
   ]
  },
  {
   "cell_type": "code",
   "execution_count": null,
   "id": "3c3196eb",
   "metadata": {},
   "outputs": [],
   "source": [
    "stats = [\"vacancy_rate\", \"rental_stock\", \"population\", \"rental_pop\"]"
   ]
  },
  {
   "cell_type": "code",
   "execution_count": null,
   "id": "fba6f5cc",
   "metadata": {
    "scrolled": false
   },
   "outputs": [],
   "source": [
    "create_distplot_by_state(\"rental_pop\")"
   ]
  },
  {
   "cell_type": "code",
   "execution_count": null,
   "id": "de4e79d1",
   "metadata": {
    "scrolled": false
   },
   "outputs": [],
   "source": [
    "df_filtered = df[df[\"region\"] == \"Monash\"]\n",
    "df_filtered = df[df[\"state\"] == \"Victoria\"]\n",
    "\n",
    "fig = px.scatter(\n",
    "    df_filtered, \n",
    "    x=\"vacancy_rate\", \n",
    "    y=\"rental_stock\",\n",
    "    color=\"state\",\n",
    "    hover_data=['name'],\n",
    "    template=\"seaborn\"\n",
    ")\n",
    "fig.update_layout(\n",
    "    xaxis_range=[-0.5, 10],\n",
    "    yaxis_range=[-2, 100],\n",
    ")"
   ]
  },
  {
   "cell_type": "markdown",
   "id": "97d91890",
   "metadata": {},
   "source": [
    "# Table"
   ]
  },
  {
   "cell_type": "code",
   "execution_count": 13,
   "id": "74dd2dd1",
   "metadata": {},
   "outputs": [],
   "source": [
    "df_houses = pd.read_csv(\"df_tables_houses.csv\")\n",
    "df_town_houses = pd.read_csv(\"df_tables_town_houses.csv\")\n",
    "df_units = pd.read_csv(\"df_tables_units.csv\")"
   ]
  },
  {
   "cell_type": "code",
   "execution_count": 16,
   "id": "8d4d7098",
   "metadata": {},
   "outputs": [],
   "source": [
    "def merge_suburb(df_houses, state):\n",
    "    suburbs = df[\"name\"][df[\"state\"] == state].unique()\n",
    "    df_filtered = df_houses[df_houses[\"Suburb\"].isin(suburbs)].merge(df, left_on='Suburb', right_on='name')\n",
    "    return df_filtered"
   ]
  },
  {
   "cell_type": "code",
   "execution_count": 23,
   "id": "6a57f763",
   "metadata": {},
   "outputs": [
    {
     "data": {
      "text/html": [
       "<div>\n",
       "<style scoped>\n",
       "    .dataframe tbody tr th:only-of-type {\n",
       "        vertical-align: middle;\n",
       "    }\n",
       "\n",
       "    .dataframe tbody tr th {\n",
       "        vertical-align: top;\n",
       "    }\n",
       "\n",
       "    .dataframe thead th {\n",
       "        text-align: right;\n",
       "    }\n",
       "</style>\n",
       "<table border=\"1\" class=\"dataframe\">\n",
       "  <thead>\n",
       "    <tr style=\"text-align: right;\">\n",
       "      <th></th>\n",
       "      <th>Suburb</th>\n",
       "      <th>Median listing price</th>\n",
       "      <th>Median price change - last quarter (%)</th>\n",
       "      <th>Median price change - 1 year (%)</th>\n",
       "      <th>Median price change - 2 years (%)</th>\n",
       "      <th>Median weekly rent</th>\n",
       "      <th>Median yield %</th>\n",
       "      <th>Median rent change - 1 year (%)</th>\n",
       "      <th>Previous month sales</th>\n",
       "      <th>Stock on market previous month</th>\n",
       "      <th>Stock variance vs. last year (%)</th>\n",
       "      <th>Average days on market</th>\n",
       "    </tr>\n",
       "  </thead>\n",
       "  <tbody>\n",
       "    <tr>\n",
       "      <th>0</th>\n",
       "      <td>Braidwood</td>\n",
       "      <td>789000.0</td>\n",
       "      <td>-1.26</td>\n",
       "      <td>-1.26</td>\n",
       "      <td>13.52</td>\n",
       "      <td>520.0</td>\n",
       "      <td>3.42</td>\n",
       "      <td>4.00</td>\n",
       "      <td>1.0</td>\n",
       "      <td>34.0</td>\n",
       "      <td>30.77</td>\n",
       "      <td>169.0</td>\n",
       "    </tr>\n",
       "    <tr>\n",
       "      <th>1</th>\n",
       "      <td>Karabar</td>\n",
       "      <td>750000.0</td>\n",
       "      <td>-1.19</td>\n",
       "      <td>-1.64</td>\n",
       "      <td>-5.90</td>\n",
       "      <td>640.0</td>\n",
       "      <td>4.43</td>\n",
       "      <td>-1.54</td>\n",
       "      <td>4.0</td>\n",
       "      <td>27.0</td>\n",
       "      <td>3.85</td>\n",
       "      <td>67.0</td>\n",
       "    </tr>\n",
       "    <tr>\n",
       "      <th>2</th>\n",
       "      <td>Queanbeyan</td>\n",
       "      <td>837000.0</td>\n",
       "      <td>3.65</td>\n",
       "      <td>11.60</td>\n",
       "      <td>2.19</td>\n",
       "      <td>600.0</td>\n",
       "      <td>3.72</td>\n",
       "      <td>3.44</td>\n",
       "      <td>6.0</td>\n",
       "      <td>27.0</td>\n",
       "      <td>17.39</td>\n",
       "      <td>89.0</td>\n",
       "    </tr>\n",
       "    <tr>\n",
       "      <th>3</th>\n",
       "      <td>Queanbeyan West</td>\n",
       "      <td>NaN</td>\n",
       "      <td>NaN</td>\n",
       "      <td>NaN</td>\n",
       "      <td>NaN</td>\n",
       "      <td>675.0</td>\n",
       "      <td>NaN</td>\n",
       "      <td>6.29</td>\n",
       "      <td>1.0</td>\n",
       "      <td>10.0</td>\n",
       "      <td>0.00</td>\n",
       "      <td>46.0</td>\n",
       "    </tr>\n",
       "    <tr>\n",
       "      <th>4</th>\n",
       "      <td>Jerrabomberra</td>\n",
       "      <td>1185000.0</td>\n",
       "      <td>3.39</td>\n",
       "      <td>19.39</td>\n",
       "      <td>8.56</td>\n",
       "      <td>770.0</td>\n",
       "      <td>3.37</td>\n",
       "      <td>1.31</td>\n",
       "      <td>5.0</td>\n",
       "      <td>41.0</td>\n",
       "      <td>0.00</td>\n",
       "      <td>88.0</td>\n",
       "    </tr>\n",
       "    <tr>\n",
       "      <th>...</th>\n",
       "      <td>...</td>\n",
       "      <td>...</td>\n",
       "      <td>...</td>\n",
       "      <td>...</td>\n",
       "      <td>...</td>\n",
       "      <td>...</td>\n",
       "      <td>...</td>\n",
       "      <td>...</td>\n",
       "      <td>...</td>\n",
       "      <td>...</td>\n",
       "      <td>...</td>\n",
       "      <td>...</td>\n",
       "    </tr>\n",
       "    <tr>\n",
       "      <th>2716</th>\n",
       "      <td>South Burnie</td>\n",
       "      <td>450000.0</td>\n",
       "      <td>0.00</td>\n",
       "      <td>4.89</td>\n",
       "      <td>NaN</td>\n",
       "      <td>NaN</td>\n",
       "      <td>NaN</td>\n",
       "      <td>NaN</td>\n",
       "      <td>0.0</td>\n",
       "      <td>4.0</td>\n",
       "      <td>-33.33</td>\n",
       "      <td>NaN</td>\n",
       "    </tr>\n",
       "    <tr>\n",
       "      <th>2717</th>\n",
       "      <td>South Spreyton</td>\n",
       "      <td>NaN</td>\n",
       "      <td>NaN</td>\n",
       "      <td>NaN</td>\n",
       "      <td>NaN</td>\n",
       "      <td>NaN</td>\n",
       "      <td>NaN</td>\n",
       "      <td>NaN</td>\n",
       "      <td>0.0</td>\n",
       "      <td>1.0</td>\n",
       "      <td>-66.67</td>\n",
       "      <td>NaN</td>\n",
       "    </tr>\n",
       "    <tr>\n",
       "      <th>2718</th>\n",
       "      <td>East Palmerston</td>\n",
       "      <td>NaN</td>\n",
       "      <td>NaN</td>\n",
       "      <td>NaN</td>\n",
       "      <td>NaN</td>\n",
       "      <td>NaN</td>\n",
       "      <td>NaN</td>\n",
       "      <td>NaN</td>\n",
       "      <td>0.0</td>\n",
       "      <td>1.0</td>\n",
       "      <td>100.00</td>\n",
       "      <td>NaN</td>\n",
       "    </tr>\n",
       "    <tr>\n",
       "      <th>2719</th>\n",
       "      <td>East Russell</td>\n",
       "      <td>NaN</td>\n",
       "      <td>NaN</td>\n",
       "      <td>NaN</td>\n",
       "      <td>NaN</td>\n",
       "      <td>NaN</td>\n",
       "      <td>NaN</td>\n",
       "      <td>NaN</td>\n",
       "      <td>0.0</td>\n",
       "      <td>2.0</td>\n",
       "      <td>-50.00</td>\n",
       "      <td>NaN</td>\n",
       "    </tr>\n",
       "    <tr>\n",
       "      <th>2720</th>\n",
       "      <td>East Chapman</td>\n",
       "      <td>NaN</td>\n",
       "      <td>NaN</td>\n",
       "      <td>NaN</td>\n",
       "      <td>NaN</td>\n",
       "      <td>NaN</td>\n",
       "      <td>NaN</td>\n",
       "      <td>NaN</td>\n",
       "      <td>NaN</td>\n",
       "      <td>NaN</td>\n",
       "      <td>NaN</td>\n",
       "      <td>NaN</td>\n",
       "    </tr>\n",
       "  </tbody>\n",
       "</table>\n",
       "<p>2721 rows × 12 columns</p>\n",
       "</div>"
      ],
      "text/plain": [
       "               Suburb  Median listing price  \\\n",
       "0           Braidwood              789000.0   \n",
       "1             Karabar              750000.0   \n",
       "2          Queanbeyan              837000.0   \n",
       "3     Queanbeyan West                   NaN   \n",
       "4       Jerrabomberra             1185000.0   \n",
       "...               ...                   ...   \n",
       "2716     South Burnie              450000.0   \n",
       "2717   South Spreyton                   NaN   \n",
       "2718  East Palmerston                   NaN   \n",
       "2719     East Russell                   NaN   \n",
       "2720     East Chapman                   NaN   \n",
       "\n",
       "      Median price change - last quarter (%)  \\\n",
       "0                                      -1.26   \n",
       "1                                      -1.19   \n",
       "2                                       3.65   \n",
       "3                                        NaN   \n",
       "4                                       3.39   \n",
       "...                                      ...   \n",
       "2716                                    0.00   \n",
       "2717                                     NaN   \n",
       "2718                                     NaN   \n",
       "2719                                     NaN   \n",
       "2720                                     NaN   \n",
       "\n",
       "      Median price change - 1 year (%)  Median price change - 2 years (%)  \\\n",
       "0                                -1.26                              13.52   \n",
       "1                                -1.64                              -5.90   \n",
       "2                                11.60                               2.19   \n",
       "3                                  NaN                                NaN   \n",
       "4                                19.39                               8.56   \n",
       "...                                ...                                ...   \n",
       "2716                              4.89                                NaN   \n",
       "2717                               NaN                                NaN   \n",
       "2718                               NaN                                NaN   \n",
       "2719                               NaN                                NaN   \n",
       "2720                               NaN                                NaN   \n",
       "\n",
       "      Median weekly rent  Median yield %  Median rent change - 1 year (%)  \\\n",
       "0                  520.0            3.42                             4.00   \n",
       "1                  640.0            4.43                            -1.54   \n",
       "2                  600.0            3.72                             3.44   \n",
       "3                  675.0             NaN                             6.29   \n",
       "4                  770.0            3.37                             1.31   \n",
       "...                  ...             ...                              ...   \n",
       "2716                 NaN             NaN                              NaN   \n",
       "2717                 NaN             NaN                              NaN   \n",
       "2718                 NaN             NaN                              NaN   \n",
       "2719                 NaN             NaN                              NaN   \n",
       "2720                 NaN             NaN                              NaN   \n",
       "\n",
       "      Previous month sales  Stock on market previous month  \\\n",
       "0                      1.0                            34.0   \n",
       "1                      4.0                            27.0   \n",
       "2                      6.0                            27.0   \n",
       "3                      1.0                            10.0   \n",
       "4                      5.0                            41.0   \n",
       "...                    ...                             ...   \n",
       "2716                   0.0                             4.0   \n",
       "2717                   0.0                             1.0   \n",
       "2718                   0.0                             1.0   \n",
       "2719                   0.0                             2.0   \n",
       "2720                   NaN                             NaN   \n",
       "\n",
       "      Stock variance vs. last year (%)  Average days on market  \n",
       "0                                30.77                   169.0  \n",
       "1                                 3.85                    67.0  \n",
       "2                                17.39                    89.0  \n",
       "3                                 0.00                    46.0  \n",
       "4                                 0.00                    88.0  \n",
       "...                                ...                     ...  \n",
       "2716                            -33.33                     NaN  \n",
       "2717                            -66.67                     NaN  \n",
       "2718                            100.00                     NaN  \n",
       "2719                            -50.00                     NaN  \n",
       "2720                               NaN                     NaN  \n",
       "\n",
       "[2721 rows x 12 columns]"
      ]
     },
     "execution_count": 23,
     "metadata": {},
     "output_type": "execute_result"
    }
   ],
   "source": [
    "df_houses"
   ]
  },
  {
   "cell_type": "code",
   "execution_count": 24,
   "id": "730be7fc",
   "metadata": {},
   "outputs": [
    {
     "data": {
      "text/plain": [
       "Index(['Suburb', 'Median listing price',\n",
       "       'Median price change - last quarter (%)',\n",
       "       'Median price change - 1 year (%)', 'Median price change - 2 years (%)',\n",
       "       'Median weekly rent', 'Median yield %',\n",
       "       'Median rent change - 1 year (%)', 'Previous month sales',\n",
       "       'Stock on market previous month', 'Stock variance vs. last year (%)',\n",
       "       'Average days on market'],\n",
       "      dtype='object')"
      ]
     },
     "execution_count": 24,
     "metadata": {},
     "output_type": "execute_result"
    }
   ],
   "source": [
    "df_houses.columns"
   ]
  },
  {
   "cell_type": "code",
   "execution_count": 25,
   "id": "27c929cb",
   "metadata": {},
   "outputs": [
    {
     "data": {
      "text/plain": [
       "Index(['Suburb', 'Median listing price',\n",
       "       'Median price change - last quarter (%)',\n",
       "       'Median price change - 1 year (%)', 'Median price change - 2 years (%)',\n",
       "       'Median weekly rent', 'Median yield %',\n",
       "       'Median rent change - 1 year (%)'],\n",
       "      dtype='object')"
      ]
     },
     "execution_count": 25,
     "metadata": {},
     "output_type": "execute_result"
    }
   ],
   "source": [
    "df_town_houses.columns"
   ]
  },
  {
   "cell_type": "code",
   "execution_count": 27,
   "id": "0d682360",
   "metadata": {},
   "outputs": [
    {
     "data": {
      "text/plain": [
       "Index(['Suburb', 'Median listing price',\n",
       "       'Median price change - last quarter (%)',\n",
       "       'Median price change - 1 year (%)', 'Median price change - 2 years (%)',\n",
       "       'Median weekly rent', 'Median yield %',\n",
       "       'Median rent change - 1 year (%)', 'Previous month sales',\n",
       "       'Stock on market previous month', 'Stock variance vs. last year (%)',\n",
       "       'Average days on market'],\n",
       "      dtype='object')"
      ]
     },
     "execution_count": 27,
     "metadata": {},
     "output_type": "execute_result"
    }
   ],
   "source": [
    "df_units.columns"
   ]
  },
  {
   "cell_type": "code",
   "execution_count": 22,
   "id": "e661759f",
   "metadata": {
    "scrolled": false
   },
   "outputs": [
    {
     "data": {
      "application/vnd.plotly.v1+json": {
       "config": {
        "plotlyServerURL": "https://plot.ly"
       },
       "data": [
        {
         "customdata": [
          [
           "Belmont"
          ],
          [
           "Hexham"
          ],
          [
           "Hamilton"
          ],
          [
           "Sassafras"
          ],
          [
           "St Albans"
          ],
          [
           "Box Hill"
          ],
          [
           "Nelson"
          ],
          [
           "Kings Park"
          ],
          [
           "Sydenham"
          ],
          [
           "Beaconsfield"
          ],
          [
           "Canterbury"
          ],
          [
           "Carlton"
          ],
          [
           "Mortlake"
          ],
          [
           "Abbotsford"
          ],
          [
           "Croydon"
          ],
          [
           "Brooklyn"
          ],
          [
           "Avalon"
          ],
          [
           "Newport"
          ],
          [
           "Wedderburn"
          ],
          [
           "Richmond"
          ],
          [
           "Windsor"
          ],
          [
           "Clyde"
          ],
          [
           "Cheltenham"
          ],
          [
           "Greendale"
          ],
          [
           "Alfredton"
          ],
          [
           "Ballarat"
          ],
          [
           "Buninyong"
          ],
          [
           "Delacombe"
          ],
          [
           "Smythes Creek"
          ],
          [
           "Wendouree"
          ],
          [
           "Miners Rest"
          ],
          [
           "Ballarat East"
          ],
          [
           "Warrenheip"
          ],
          [
           "Ballarat North"
          ],
          [
           "Canadian"
          ],
          [
           "Mount Clear"
          ],
          [
           "Sebastopol"
          ],
          [
           "Redan"
          ],
          [
           "Creswick"
          ],
          [
           "Clunes"
          ],
          [
           "Daylesford"
          ],
          [
           "Beaufort"
          ],
          [
           "Bendigo"
          ],
          [
           "California Gully"
          ],
          [
           "Eaglehawk"
          ],
          [
           "East Bendigo"
          ],
          [
           "Kennington"
          ],
          [
           "Flora Hill"
          ],
          [
           "Spring Gully"
          ],
          [
           "Kangaroo Flat"
          ],
          [
           "Golden Square"
          ],
          [
           "Maiden Gully"
          ],
          [
           "Strathfieldsaye"
          ],
          [
           "White Hills"
          ],
          [
           "Castlemaine"
          ],
          [
           "Kyneton"
          ],
          [
           "Woodend"
          ],
          [
           "Bannockburn"
          ],
          [
           "Winchelsea"
          ],
          [
           "Geelong"
          ],
          [
           "Geelong West"
          ],
          [
           "Hamlyn Heights"
          ],
          [
           "Highton"
          ],
          [
           "Lara"
          ],
          [
           "Leopold"
          ],
          [
           "Newcomb"
          ],
          [
           "Moolap"
          ],
          [
           "North Geelong"
          ],
          [
           "Bell Park"
          ],
          [
           "Charlemont"
          ],
          [
           "Corio"
          ],
          [
           "Lovely Banks"
          ],
          [
           "Grovedale"
          ],
          [
           "Mount Duneed"
          ],
          [
           "Norlane"
          ],
          [
           "Clifton Springs"
          ],
          [
           "Lorne"
          ],
          [
           "Anglesea"
          ],
          [
           "Portarlington"
          ],
          [
           "Point Lonsdale"
          ],
          [
           "Torquay"
          ],
          [
           "Barwon Heads"
          ],
          [
           "Armstrong Creek"
          ],
          [
           "Ocean Grove"
          ],
          [
           "Alexandra"
          ],
          [
           "Euroa"
          ],
          [
           "Kilmore"
          ],
          [
           "Broadford"
          ],
          [
           "Nagambie"
          ],
          [
           "Seymour"
          ],
          [
           "Yea"
          ],
          [
           "Benalla"
          ],
          [
           "Rutherglen"
          ],
          [
           "Wangaratta"
          ],
          [
           "Beechworth"
          ],
          [
           "Bright"
          ],
          [
           "Mount Beauty"
          ],
          [
           "Chiltern"
          ],
          [
           "Indigo Valley"
          ],
          [
           "Myrtleford"
          ],
          [
           "Towong"
          ],
          [
           "West Wodonga"
          ],
          [
           "Yackandandah"
          ],
          [
           "Baranduda"
          ],
          [
           "Leneva"
          ],
          [
           "Wodonga"
          ],
          [
           "Drouin"
          ],
          [
           "Warragul"
          ],
          [
           "Bairnsdale"
          ],
          [
           "Bruthen"
          ],
          [
           "Omeo"
          ],
          [
           "Lakes Entrance"
          ],
          [
           "Orbost"
          ],
          [
           "Paynesville"
          ],
          [
           "Foster"
          ],
          [
           "French Island"
          ],
          [
           "Korumburra"
          ],
          [
           "Leongatha"
          ],
          [
           "Wilsons Promontory"
          ],
          [
           "Wonthaggi"
          ],
          [
           "Inverloch"
          ],
          [
           "Churchill"
          ],
          [
           "Moe"
          ],
          [
           "Newborough"
          ],
          [
           "Morwell"
          ],
          [
           "Yallourn North"
          ],
          [
           "Glengarry"
          ],
          [
           "Traralgon"
          ],
          [
           "Loch Sport"
          ],
          [
           "Maffra"
          ],
          [
           "Rosedale"
          ],
          [
           "Sale"
          ],
          [
           "Yarram"
          ],
          [
           "Brunswick East"
          ],
          [
           "Brunswick West"
          ],
          [
           "Pascoe Vale South"
          ],
          [
           "Brunswick"
          ],
          [
           "Coburg"
          ],
          [
           "Alphington"
          ],
          [
           "Thornbury"
          ],
          [
           "Northcote"
          ],
          [
           "Ascot Vale"
          ],
          [
           "Flemington"
          ],
          [
           "Moonee Ponds"
          ],
          [
           "Aberfeldie"
          ],
          [
           "Essendon"
          ],
          [
           "Docklands"
          ],
          [
           "East Melbourne"
          ],
          [
           "Parkville"
          ],
          [
           "South Yarra"
          ],
          [
           "West Melbourne"
          ],
          [
           "North Melbourne"
          ],
          [
           "South Wharf"
          ],
          [
           "Southbank"
          ],
          [
           "Albert Park"
          ],
          [
           "Elwood"
          ],
          [
           "Port Melbourne"
          ],
          [
           "St Kilda East"
          ],
          [
           "South Melbourne"
          ],
          [
           "St Kilda"
          ],
          [
           "Prahran"
          ],
          [
           "Toorak"
          ],
          [
           "Carlton North"
          ],
          [
           "Princes Hill"
          ],
          [
           "Collingwood"
          ],
          [
           "Fitzroy"
          ],
          [
           "Fitzroy North"
          ],
          [
           "Clifton Hill"
          ],
          [
           "Balwyn"
          ],
          [
           "Balwyn North"
          ],
          [
           "Camberwell"
          ],
          [
           "Glen Iris"
          ],
          [
           "Hawthorn East"
          ],
          [
           "Kew East"
          ],
          [
           "Hawthorn"
          ],
          [
           "Kew"
          ],
          [
           "Bulleen"
          ],
          [
           "Doncaster"
          ],
          [
           "Templestowe"
          ],
          [
           "Templestowe Lower"
          ],
          [
           "Doncaster East"
          ],
          [
           "Blackburn"
          ],
          [
           "Blackburn South"
          ],
          [
           "Box Hill North"
          ],
          [
           "Burwood East"
          ],
          [
           "Mont Albert"
          ],
          [
           "Beaumaris"
          ],
          [
           "Brighton East"
          ],
          [
           "Hampton"
          ],
          [
           "Sandringham"
          ],
          [
           "Black Rock"
          ],
          [
           "Bentleigh"
          ],
          [
           "McKinnon"
          ],
          [
           "Carnegie"
          ],
          [
           "Caulfield"
          ],
          [
           "Elsternwick"
          ],
          [
           "Hughesdale"
          ],
          [
           "Murrumbeena"
          ],
          [
           "Ormond"
          ],
          [
           "Glen Huntly"
          ],
          [
           "Bentleigh East"
          ],
          [
           "Aspendale Gardens"
          ],
          [
           "Waterways"
          ],
          [
           "Braeside"
          ],
          [
           "Carrum"
          ],
          [
           "Patterson Lakes"
          ],
          [
           "Chelsea"
          ],
          [
           "Bonbeach"
          ],
          [
           "Chelsea Heights"
          ],
          [
           "Edithvale"
          ],
          [
           "Aspendale"
          ],
          [
           "Mentone"
          ],
          [
           "Moorabbin"
          ],
          [
           "Heatherton"
          ],
          [
           "Mordialloc"
          ],
          [
           "Parkdale"
          ],
          [
           "Malvern"
          ],
          [
           "Malvern East"
          ],
          [
           "Bundoora"
          ],
          [
           "Greensborough"
          ],
          [
           "Heidelberg"
          ],
          [
           "Rosanna"
          ],
          [
           "Heidelberg West"
          ],
          [
           "Ivanhoe"
          ],
          [
           "Ivanhoe East"
          ],
          [
           "Eaglemont"
          ],
          [
           "Montmorency"
          ],
          [
           "Briar Hill"
          ],
          [
           "Viewbank"
          ],
          [
           "Yallambie"
          ],
          [
           "Watsonia"
          ],
          [
           "Kingsbury"
          ],
          [
           "Preston"
          ],
          [
           "Reservoir"
          ],
          [
           "Eltham"
          ],
          [
           "Hurstbridge"
          ],
          [
           "Panton Hill"
          ],
          [
           "Plenty"
          ],
          [
           "Yarrambat"
          ],
          [
           "Research"
          ],
          [
           "North Warrandyte"
          ],
          [
           "Wattle Glen"
          ],
          [
           "Diamond Creek"
          ],
          [
           "Mill Park"
          ],
          [
           "Thomastown"
          ],
          [
           "Wallan"
          ],
          [
           "Whittlesea"
          ],
          [
           "Epping"
          ],
          [
           "South Morang"
          ],
          [
           "Wollert"
          ],
          [
           "Doreen"
          ],
          [
           "Lalor"
          ],
          [
           "Mernda"
          ],
          [
           "Airport West"
          ],
          [
           "Keilor"
          ],
          [
           "Niddrie"
          ],
          [
           "Essendon West"
          ],
          [
           "Strathmore"
          ],
          [
           "Avondale Heights"
          ],
          [
           "Keilor East"
          ],
          [
           "Gisborne"
          ],
          [
           "Macedon"
          ],
          [
           "Riddells Creek"
          ],
          [
           "Romsey"
          ],
          [
           "Coburg North"
          ],
          [
           "Fawkner"
          ],
          [
           "Gowanbrae"
          ],
          [
           "Hadfield"
          ],
          [
           "Glenroy"
          ],
          [
           "Oak Park"
          ],
          [
           "Pascoe Vale"
          ],
          [
           "Sunbury"
          ],
          [
           "Diggers Rest"
          ],
          [
           "Broadmeadows"
          ],
          [
           "Campbellfield"
          ],
          [
           "Coolaroo"
          ],
          [
           "Gladstone Park"
          ],
          [
           "Westmeadows"
          ],
          [
           "Greenvale"
          ],
          [
           "Bulla"
          ],
          [
           "Meadow Heights"
          ],
          [
           "Melbourne Airport"
          ],
          [
           "Tullamarine"
          ],
          [
           "Craigieburn"
          ],
          [
           "Mickleham"
          ],
          [
           "Yuroke"
          ],
          [
           "Roxburgh Park"
          ],
          [
           "Knoxfield"
          ],
          [
           "Scoresby"
          ],
          [
           "Lysterfield"
          ],
          [
           "Rowville"
          ],
          [
           "Wantirna"
          ],
          [
           "Wantirna South"
          ],
          [
           "Boronia"
          ],
          [
           "Ferntree Gully"
          ],
          [
           "Upper Ferntree Gully"
          ],
          [
           "The Basin"
          ],
          [
           "Donvale"
          ],
          [
           "Park Orchards"
          ],
          [
           "Warrandyte"
          ],
          [
           "Wonga Park"
          ],
          [
           "Bayswater North"
          ],
          [
           "Croydon Hills"
          ],
          [
           "Warranwood"
          ],
          [
           "Ringwood"
          ],
          [
           "Ringwood East"
          ],
          [
           "Ringwood North"
          ],
          [
           "Croydon South"
          ],
          [
           "Forest Hill"
          ],
          [
           "Nunawading"
          ],
          [
           "Vermont"
          ],
          [
           "Vermont South"
          ],
          [
           "Belgrave"
          ],
          [
           "Selby"
          ],
          [
           "Chirnside Park"
          ],
          [
           "Healesville"
          ],
          [
           "Yarra Glen"
          ],
          [
           "Kilsyth"
          ],
          [
           "Lilydale"
          ],
          [
           "Coldstream"
          ],
          [
           "Monbulk"
          ],
          [
           "Silvan"
          ],
          [
           "Montrose"
          ],
          [
           "Mooroolbark"
          ],
          [
           "Mount Dandenong"
          ],
          [
           "Olinda"
          ],
          [
           "Mount Evelyn"
          ],
          [
           "Upwey"
          ],
          [
           "Tecoma"
          ],
          [
           "Seville"
          ],
          [
           "Cockatoo"
          ],
          [
           "Officer"
          ],
          [
           "Bunyip"
          ],
          [
           "Garfield"
          ],
          [
           "Koo Wee Rup"
          ],
          [
           "Pakenham"
          ],
          [
           "Berwick"
          ],
          [
           "Doveton"
          ],
          [
           "Hallam"
          ],
          [
           "Narre Warren North"
          ],
          [
           "Endeavour Hills"
          ],
          [
           "Narre Warren"
          ],
          [
           "Cranbourne"
          ],
          [
           "Cranbourne South"
          ],
          [
           "Cranbourne West"
          ],
          [
           "Lynbrook"
          ],
          [
           "Lyndhurst"
          ],
          [
           "Pearcedale"
          ],
          [
           "Tooradin"
          ],
          [
           "Narre Warren South"
          ],
          [
           "Clyde North"
          ],
          [
           "Cranbourne East"
          ],
          [
           "Cranbourne North"
          ],
          [
           "Hampton Park"
          ],
          [
           "Clarinda"
          ],
          [
           "Oakleigh South"
          ],
          [
           "Clayton South"
          ],
          [
           "Dandenong North"
          ],
          [
           "Dingley Village"
          ],
          [
           "Noble Park North"
          ],
          [
           "Springvale"
          ],
          [
           "Springvale South"
          ],
          [
           "Noble Park"
          ],
          [
           "Dandenong"
          ],
          [
           "Keysborough"
          ],
          [
           "Ashwood"
          ],
          [
           "Chadstone"
          ],
          [
           "Glen Waverley"
          ],
          [
           "Mount Waverley"
          ],
          [
           "Mulgrave"
          ],
          [
           "Oakleigh"
          ],
          [
           "Wheelers Hill"
          ],
          [
           "Notting Hill"
          ],
          [
           "Clayton"
          ],
          [
           "Ardeer"
          ],
          [
           "Albion"
          ],
          [
           "Cairnlea"
          ],
          [
           "Delahey"
          ],
          [
           "Keilor Downs"
          ],
          [
           "Sunshine"
          ],
          [
           "Sunshine North"
          ],
          [
           "Sunshine West"
          ],
          [
           "Taylors Lakes"
          ],
          [
           "Deer Park"
          ],
          [
           "Derrimut"
          ],
          [
           "Altona"
          ],
          [
           "Altona Meadows"
          ],
          [
           "Altona North"
          ],
          [
           "Seabrook"
          ],
          [
           "Williamstown"
          ],
          [
           "Braybrook"
          ],
          [
           "Footscray"
          ],
          [
           "Maribyrnong"
          ],
          [
           "Seddon"
          ],
          [
           "Kingsville"
          ],
          [
           "West Footscray"
          ],
          [
           "Yarraville"
          ],
          [
           "Bacchus Marsh"
          ],
          [
           "Melton West"
          ],
          [
           "Rockbank"
          ],
          [
           "Mount Cottrell"
          ],
          [
           "Taylors Hill"
          ],
          [
           "Burnside"
          ],
          [
           "Burnside Heights"
          ],
          [
           "Caroline Springs"
          ],
          [
           "Brookfield"
          ],
          [
           "Eynesbury"
          ],
          [
           "Exford"
          ],
          [
           "Kurunjang"
          ],
          [
           "Toolern Vale"
          ],
          [
           "Melton"
          ],
          [
           "Melton South"
          ],
          [
           "Hoppers Crossing"
          ],
          [
           "Laverton"
          ],
          [
           "Werribee"
          ],
          [
           "Point Cook"
          ],
          [
           "Tarneit"
          ],
          [
           "Truganina"
          ],
          [
           "Wyndham Vale"
          ],
          [
           "Carrum Downs"
          ],
          [
           "Frankston"
          ],
          [
           "Frankston North"
          ],
          [
           "Frankston South"
          ],
          [
           "Langwarrin"
          ],
          [
           "Skye"
          ],
          [
           "Sandhurst"
          ],
          [
           "Dromana"
          ],
          [
           "Hastings"
          ],
          [
           "Somers"
          ],
          [
           "Mount Eliza"
          ],
          [
           "Mount Martha"
          ],
          [
           "Rosebud"
          ],
          [
           "McCrae"
          ],
          [
           "Somerville"
          ],
          [
           "Mornington"
          ],
          [
           "Ararat"
          ],
          [
           "Horsham"
          ],
          [
           "St Arnaud"
          ],
          [
           "Stawell"
          ],
          [
           "Irymple"
          ],
          [
           "Merbein"
          ],
          [
           "Red Cliffs"
          ],
          [
           "Mildura"
          ],
          [
           "Gannawarra"
          ],
          [
           "Kerang"
          ],
          [
           "Robinvale"
          ],
          [
           "Swan Hill"
          ],
          [
           "Echuca"
          ],
          [
           "Kyabram"
          ],
          [
           "Lockington"
          ],
          [
           "Gunbower"
          ],
          [
           "Rochester"
          ],
          [
           "Rushworth"
          ],
          [
           "Cobram"
          ],
          [
           "Numurkah"
          ],
          [
           "Yarrawonga"
          ],
          [
           "Mooroopna"
          ],
          [
           "Shepparton"
          ],
          [
           "Kialla"
          ],
          [
           "Portland"
          ],
          [
           "Colac"
          ],
          [
           "Warrnambool"
          ],
          [
           "Middle Park"
          ],
          [
           "Stratford"
          ],
          [
           "Douglas"
          ],
          [
           "Seaford"
          ],
          [
           "Herne Hill"
          ],
          [
           "Welshpool"
          ],
          [
           "Brighton"
          ],
          [
           "Simpson"
          ],
          [
           "Barkly"
          ],
          [
           "Mount Taylor"
          ],
          [
           "South Dudley"
          ],
          [
           "North Bendigo"
          ],
          [
           "West Bendigo"
          ],
          [
           "East Geelong"
          ],
          [
           "South Geelong"
          ],
          [
           "North Wangaratta"
          ],
          [
           "East Wangaratta"
          ],
          [
           "East Bairnsdale"
          ],
          [
           "North Wonthaggi"
          ],
          [
           "South Kingsville"
          ],
          [
           "North Blackwood"
          ]
         ],
         "hovertemplate": "Median listing price=%{x}<br>Median yield %=%{y}<br>Suburb=%{customdata[0]}<extra></extra>",
         "legendgroup": "",
         "marker": {
          "color": "rgb(76,114,176)",
          "symbol": "circle"
         },
         "mode": "markers",
         "name": "",
         "orientation": "v",
         "showlegend": false,
         "type": "scatter",
         "x": [
          459000,
          null,
          269000,
          null,
          460000,
          580000,
          null,
          null,
          430000,
          null,
          810000,
          415000,
          null,
          470000,
          580000,
          500000,
          null,
          580000,
          null,
          535000,
          490000,
          null,
          580000,
          null,
          null,
          null,
          null,
          null,
          null,
          320000,
          null,
          350000,
          null,
          324000,
          377500,
          null,
          334500,
          322000,
          null,
          null,
          null,
          null,
          461500,
          null,
          null,
          null,
          390000,
          385000,
          425000,
          355000,
          360000,
          null,
          null,
          null,
          null,
          null,
          null,
          null,
          null,
          619000,
          399500,
          430000,
          459000,
          439000,
          480000,
          440000,
          null,
          null,
          485000,
          null,
          382000,
          null,
          452000,
          null,
          425000,
          null,
          695000,
          null,
          650000,
          null,
          810000,
          null,
          null,
          690000,
          null,
          null,
          397000,
          null,
          null,
          395000,
          null,
          297500,
          null,
          349000,
          null,
          629000,
          null,
          null,
          null,
          null,
          null,
          369000,
          null,
          null,
          null,
          385000,
          430000,
          442500,
          350000,
          null,
          null,
          440000,
          null,
          419000,
          410000,
          null,
          null,
          419000,
          null,
          395000,
          627000,
          null,
          250000,
          null,
          280000,
          null,
          null,
          319500,
          null,
          null,
          null,
          320000,
          337000,
          490000,
          430000,
          507500,
          540000,
          490000,
          744000,
          500000,
          549000,
          470000,
          385000,
          517500,
          null,
          465000,
          600000,
          730000,
          480000,
          550000,
          510000,
          497500,
          null,
          597500,
          747500,
          650000,
          722500,
          540000,
          609500,
          525000,
          500000,
          940000,
          660000,
          null,
          590000,
          800000,
          549500,
          647500,
          690000,
          695000,
          720000,
          675000,
          550000,
          665000,
          530000,
          660000,
          675000,
          550000,
          700000,
          640000,
          580000,
          580000,
          600000,
          686000,
          530000,
          700000,
          790000,
          800000,
          840000,
          850000,
          820000,
          600000,
          665000,
          530000,
          699500,
          700000,
          530000,
          505000,
          525000,
          550000,
          570000,
          null,
          null,
          null,
          680000,
          580000,
          590000,
          580000,
          null,
          600000,
          699000,
          540000,
          650000,
          null,
          580000,
          600000,
          780000,
          540000,
          400000,
          650000,
          570000,
          690000,
          470000,
          635000,
          992500,
          null,
          655000,
          null,
          null,
          null,
          590000,
          435000,
          460000,
          500000,
          700000,
          null,
          null,
          null,
          null,
          null,
          null,
          null,
          750000,
          395000,
          445000,
          435000,
          null,
          380000,
          null,
          null,
          null,
          432500,
          null,
          570000,
          null,
          512500,
          null,
          500000,
          null,
          685000,
          545000,
          null,
          null,
          490000,
          557500,
          480000,
          null,
          400000,
          489500,
          530000,
          540000,
          450000,
          null,
          400000,
          null,
          null,
          null,
          null,
          null,
          null,
          427500,
          null,
          450000,
          400000,
          null,
          null,
          null,
          750000,
          null,
          null,
          620000,
          null,
          455000,
          595000,
          580000,
          null,
          null,
          730000,
          null,
          null,
          null,
          567500,
          null,
          null,
          530000,
          650000,
          null,
          null,
          600000,
          649000,
          750000,
          null,
          null,
          null,
          null,
          570000,
          null,
          640000,
          540000,
          null,
          null,
          null,
          null,
          640000,
          null,
          null,
          null,
          null,
          null,
          null,
          null,
          651500,
          null,
          null,
          null,
          450000,
          590000,
          489500,
          480000,
          null,
          560000,
          502500,
          460000,
          null,
          null,
          null,
          null,
          null,
          null,
          null,
          728000,
          530000,
          499000,
          499500,
          650000,
          550000,
          450000,
          500000,
          690000,
          null,
          480000,
          550000,
          480000,
          370000,
          600000,
          690000,
          487500,
          680000,
          850000,
          685000,
          550000,
          null,
          330000,
          500000,
          null,
          280000,
          409000,
          null,
          540000,
          450000,
          500000,
          490000,
          null,
          450000,
          null,
          625000,
          495000,
          645000,
          null,
          590000,
          395000,
          485000,
          420000,
          480000,
          400000,
          372500,
          500000,
          464500,
          392000,
          null,
          null,
          null,
          null,
          null,
          450000,
          null,
          null,
          null,
          null,
          null,
          369000,
          369000,
          400000,
          480000,
          400000,
          480000,
          445000,
          null,
          437500,
          505000,
          465000,
          null,
          680000,
          540000,
          null,
          null,
          595000,
          482500,
          null,
          750000,
          785000,
          550000,
          630000,
          575000,
          700000,
          330000,
          352500,
          null,
          327000,
          null,
          null,
          null,
          280000,
          null,
          null,
          null,
          null,
          405000,
          null,
          null,
          null,
          null,
          null,
          319000,
          null,
          395000,
          277500,
          372000,
          null,
          307000,
          427000,
          387500,
          800000,
          null,
          null,
          550000,
          339500,
          null,
          1282000,
          null,
          null,
          null,
          null,
          null,
          null,
          null,
          null,
          null,
          null,
          null,
          null,
          null,
          null
         ],
         "xaxis": "x",
         "y": [
          4.75,
          null,
          5.41,
          null,
          4.4,
          4.75,
          null,
          null,
          5.07,
          null,
          3.81,
          6.01,
          null,
          5.86,
          4.48,
          4.16,
          null,
          4.12,
          null,
          5.34,
          5.3,
          null,
          4.43,
          null,
          null,
          null,
          null,
          null,
          null,
          5.03,
          null,
          5.05,
          null,
          5.21,
          null,
          null,
          5.44,
          5,
          null,
          null,
          null,
          null,
          4.05,
          null,
          null,
          null,
          5.06,
          4.86,
          null,
          5.12,
          5.2,
          null,
          null,
          null,
          null,
          null,
          null,
          null,
          null,
          4.11,
          5.07,
          4.47,
          4.47,
          4.73,
          4.55,
          4.49,
          null,
          null,
          4.5,
          null,
          4.15,
          null,
          4.88,
          null,
          4.58,
          null,
          3.74,
          null,
          3.36,
          null,
          3.2,
          null,
          null,
          3.57,
          null,
          null,
          4.91,
          null,
          null,
          4.6,
          null,
          5.68,
          null,
          5.06,
          null,
          3.3,
          null,
          null,
          null,
          null,
          null,
          null,
          null,
          null,
          null,
          4.72,
          4.53,
          4.46,
          5.34,
          null,
          null,
          4.01,
          null,
          4.77,
          4.05,
          null,
          null,
          3.97,
          null,
          5.26,
          3.56,
          null,
          5.51,
          null,
          5.2,
          null,
          null,
          5.28,
          null,
          null,
          null,
          4.71,
          null,
          5.3,
          5.44,
          4.76,
          4.71,
          5.09,
          3.87,
          4.31,
          4.54,
          5.08,
          5.8,
          5.02,
          null,
          5.03,
          5.2,
          4.27,
          5.57,
          5.1,
          5.7,
          4.96,
          null,
          5.22,
          3.61,
          4.12,
          4.49,
          4.81,
          4.94,
          5.15,
          4.99,
          3.2,
          4.13,
          null,
          4.93,
          3.9,
          5.01,
          3.97,
          4.22,
          4.18,
          3.97,
          3.85,
          4.72,
          4.14,
          4.85,
          4.29,
          4.12,
          5.2,
          3.86,
          4.46,
          5.02,
          4.3,
          4.33,
          3.94,
          5.73,
          4.08,
          3.81,
          3.86,
          3.86,
          3.36,
          3.8,
          5.02,
          4.69,
          4.7,
          3.97,
          3.86,
          5.29,
          4.37,
          4.45,
          4.39,
          5.01,
          null,
          null,
          null,
          4.01,
          4.7,
          4.31,
          4.43,
          null,
          4.5,
          4.09,
          4.62,
          4.08,
          null,
          4.48,
          4.29,
          3.33,
          4.52,
          5.72,
          3.76,
          4.33,
          3.61,
          5.2,
          4.25,
          2.75,
          null,
          3.96,
          null,
          null,
          null,
          3.92,
          4.78,
          5.08,
          4.68,
          3.71,
          null,
          null,
          null,
          null,
          null,
          null,
          null,
          null,
          5.92,
          4.67,
          4.66,
          null,
          5.88,
          null,
          null,
          null,
          5.29,
          null,
          4.42,
          null,
          5.27,
          null,
          5.2,
          null,
          3.87,
          4.29,
          null,
          null,
          null,
          4.47,
          4.87,
          null,
          5.2,
          4.78,
          4.66,
          4.57,
          4.96,
          null,
          5.85,
          null,
          null,
          null,
          null,
          null,
          null,
          5.47,
          null,
          5.08,
          5.59,
          null,
          null,
          null,
          3.77,
          null,
          null,
          4.19,
          null,
          5.6,
          4.19,
          4.48,
          null,
          null,
          3.73,
          null,
          null,
          null,
          4.35,
          null,
          null,
          4.8,
          3.84,
          null,
          null,
          4.2,
          3.76,
          3.46,
          null,
          null,
          null,
          null,
          null,
          null,
          3.77,
          4.28,
          null,
          null,
          null,
          null,
          4.02,
          null,
          null,
          null,
          null,
          null,
          null,
          null,
          null,
          null,
          null,
          null,
          5.08,
          4.23,
          4.88,
          5.14,
          null,
          4.59,
          4.91,
          4.97,
          null,
          null,
          null,
          null,
          null,
          null,
          null,
          null,
          null,
          5,
          4.68,
          4.56,
          4.72,
          5.77,
          4.68,
          null,
          null,
          4.65,
          3.97,
          4.55,
          5.62,
          4.59,
          3.99,
          5.65,
          4.58,
          3.36,
          3.26,
          5.2,
          null,
          7.64,
          5.2,
          null,
          6.5,
          5.72,
          null,
          4.38,
          4.27,
          4.42,
          4.45,
          null,
          4.62,
          null,
          3.74,
          4.46,
          3.5,
          null,
          4.36,
          5.92,
          5.14,
          5.88,
          4.65,
          5,
          5.44,
          4.68,
          3.91,
          4.97,
          null,
          null,
          null,
          null,
          null,
          5.08,
          null,
          null,
          null,
          null,
          null,
          4.93,
          4.93,
          4.94,
          5.03,
          4.87,
          4.98,
          5.25,
          null,
          4.87,
          4.89,
          4.58,
          null,
          3.74,
          4.57,
          null,
          null,
          4.06,
          4.74,
          null,
          3.53,
          3.74,
          4.34,
          null,
          4.2,
          3.9,
          5.2,
          4.42,
          null,
          4.13,
          null,
          null,
          null,
          5.94,
          null,
          null,
          null,
          null,
          4.87,
          null,
          null,
          null,
          null,
          null,
          4.8,
          null,
          4.93,
          6.09,
          4.82,
          null,
          5.58,
          4.01,
          5.36,
          3.64,
          null,
          null,
          4.25,
          5.2,
          null,
          2.71,
          null,
          null,
          null,
          null,
          null,
          null,
          null,
          null,
          null,
          null,
          null,
          null,
          null,
          null
         ],
         "yaxis": "y"
        }
       ],
       "layout": {
        "legend": {
         "tracegroupgap": 0
        },
        "margin": {
         "t": 60
        },
        "template": {
         "data": {
          "bar": [
           {
            "error_x": {
             "color": "rgb(36,36,36)"
            },
            "error_y": {
             "color": "rgb(36,36,36)"
            },
            "marker": {
             "line": {
              "color": "rgb(234,234,242)",
              "width": 0.5
             },
             "pattern": {
              "fillmode": "overlay",
              "size": 10,
              "solidity": 0.2
             }
            },
            "type": "bar"
           }
          ],
          "barpolar": [
           {
            "marker": {
             "line": {
              "color": "rgb(234,234,242)",
              "width": 0.5
             },
             "pattern": {
              "fillmode": "overlay",
              "size": 10,
              "solidity": 0.2
             }
            },
            "type": "barpolar"
           }
          ],
          "carpet": [
           {
            "aaxis": {
             "endlinecolor": "rgb(36,36,36)",
             "gridcolor": "white",
             "linecolor": "white",
             "minorgridcolor": "white",
             "startlinecolor": "rgb(36,36,36)"
            },
            "baxis": {
             "endlinecolor": "rgb(36,36,36)",
             "gridcolor": "white",
             "linecolor": "white",
             "minorgridcolor": "white",
             "startlinecolor": "rgb(36,36,36)"
            },
            "type": "carpet"
           }
          ],
          "choropleth": [
           {
            "colorbar": {
             "outlinewidth": 0,
             "tickcolor": "rgb(36,36,36)",
             "ticklen": 8,
             "ticks": "outside",
             "tickwidth": 2
            },
            "type": "choropleth"
           }
          ],
          "contour": [
           {
            "colorbar": {
             "outlinewidth": 0,
             "tickcolor": "rgb(36,36,36)",
             "ticklen": 8,
             "ticks": "outside",
             "tickwidth": 2
            },
            "colorscale": [
             [
              0,
              "rgb(2,4,25)"
             ],
             [
              0.06274509803921569,
              "rgb(24,15,41)"
             ],
             [
              0.12549019607843137,
              "rgb(47,23,57)"
             ],
             [
              0.18823529411764706,
              "rgb(71,28,72)"
             ],
             [
              0.25098039215686274,
              "rgb(97,30,82)"
             ],
             [
              0.3137254901960784,
              "rgb(123,30,89)"
             ],
             [
              0.3764705882352941,
              "rgb(150,27,91)"
             ],
             [
              0.4392156862745098,
              "rgb(177,22,88)"
             ],
             [
              0.5019607843137255,
              "rgb(203,26,79)"
             ],
             [
              0.5647058823529412,
              "rgb(223,47,67)"
             ],
             [
              0.6274509803921569,
              "rgb(236,76,61)"
             ],
             [
              0.6901960784313725,
              "rgb(242,107,73)"
             ],
             [
              0.7529411764705882,
              "rgb(244,135,95)"
             ],
             [
              0.8156862745098039,
              "rgb(245,162,122)"
             ],
             [
              0.8784313725490196,
              "rgb(246,188,153)"
             ],
             [
              0.9411764705882353,
              "rgb(247,212,187)"
             ],
             [
              1,
              "rgb(250,234,220)"
             ]
            ],
            "type": "contour"
           }
          ],
          "contourcarpet": [
           {
            "colorbar": {
             "outlinewidth": 0,
             "tickcolor": "rgb(36,36,36)",
             "ticklen": 8,
             "ticks": "outside",
             "tickwidth": 2
            },
            "type": "contourcarpet"
           }
          ],
          "heatmap": [
           {
            "colorbar": {
             "outlinewidth": 0,
             "tickcolor": "rgb(36,36,36)",
             "ticklen": 8,
             "ticks": "outside",
             "tickwidth": 2
            },
            "colorscale": [
             [
              0,
              "rgb(2,4,25)"
             ],
             [
              0.06274509803921569,
              "rgb(24,15,41)"
             ],
             [
              0.12549019607843137,
              "rgb(47,23,57)"
             ],
             [
              0.18823529411764706,
              "rgb(71,28,72)"
             ],
             [
              0.25098039215686274,
              "rgb(97,30,82)"
             ],
             [
              0.3137254901960784,
              "rgb(123,30,89)"
             ],
             [
              0.3764705882352941,
              "rgb(150,27,91)"
             ],
             [
              0.4392156862745098,
              "rgb(177,22,88)"
             ],
             [
              0.5019607843137255,
              "rgb(203,26,79)"
             ],
             [
              0.5647058823529412,
              "rgb(223,47,67)"
             ],
             [
              0.6274509803921569,
              "rgb(236,76,61)"
             ],
             [
              0.6901960784313725,
              "rgb(242,107,73)"
             ],
             [
              0.7529411764705882,
              "rgb(244,135,95)"
             ],
             [
              0.8156862745098039,
              "rgb(245,162,122)"
             ],
             [
              0.8784313725490196,
              "rgb(246,188,153)"
             ],
             [
              0.9411764705882353,
              "rgb(247,212,187)"
             ],
             [
              1,
              "rgb(250,234,220)"
             ]
            ],
            "type": "heatmap"
           }
          ],
          "heatmapgl": [
           {
            "colorbar": {
             "outlinewidth": 0,
             "tickcolor": "rgb(36,36,36)",
             "ticklen": 8,
             "ticks": "outside",
             "tickwidth": 2
            },
            "colorscale": [
             [
              0,
              "rgb(2,4,25)"
             ],
             [
              0.06274509803921569,
              "rgb(24,15,41)"
             ],
             [
              0.12549019607843137,
              "rgb(47,23,57)"
             ],
             [
              0.18823529411764706,
              "rgb(71,28,72)"
             ],
             [
              0.25098039215686274,
              "rgb(97,30,82)"
             ],
             [
              0.3137254901960784,
              "rgb(123,30,89)"
             ],
             [
              0.3764705882352941,
              "rgb(150,27,91)"
             ],
             [
              0.4392156862745098,
              "rgb(177,22,88)"
             ],
             [
              0.5019607843137255,
              "rgb(203,26,79)"
             ],
             [
              0.5647058823529412,
              "rgb(223,47,67)"
             ],
             [
              0.6274509803921569,
              "rgb(236,76,61)"
             ],
             [
              0.6901960784313725,
              "rgb(242,107,73)"
             ],
             [
              0.7529411764705882,
              "rgb(244,135,95)"
             ],
             [
              0.8156862745098039,
              "rgb(245,162,122)"
             ],
             [
              0.8784313725490196,
              "rgb(246,188,153)"
             ],
             [
              0.9411764705882353,
              "rgb(247,212,187)"
             ],
             [
              1,
              "rgb(250,234,220)"
             ]
            ],
            "type": "heatmapgl"
           }
          ],
          "histogram": [
           {
            "marker": {
             "pattern": {
              "fillmode": "overlay",
              "size": 10,
              "solidity": 0.2
             }
            },
            "type": "histogram"
           }
          ],
          "histogram2d": [
           {
            "colorbar": {
             "outlinewidth": 0,
             "tickcolor": "rgb(36,36,36)",
             "ticklen": 8,
             "ticks": "outside",
             "tickwidth": 2
            },
            "colorscale": [
             [
              0,
              "rgb(2,4,25)"
             ],
             [
              0.06274509803921569,
              "rgb(24,15,41)"
             ],
             [
              0.12549019607843137,
              "rgb(47,23,57)"
             ],
             [
              0.18823529411764706,
              "rgb(71,28,72)"
             ],
             [
              0.25098039215686274,
              "rgb(97,30,82)"
             ],
             [
              0.3137254901960784,
              "rgb(123,30,89)"
             ],
             [
              0.3764705882352941,
              "rgb(150,27,91)"
             ],
             [
              0.4392156862745098,
              "rgb(177,22,88)"
             ],
             [
              0.5019607843137255,
              "rgb(203,26,79)"
             ],
             [
              0.5647058823529412,
              "rgb(223,47,67)"
             ],
             [
              0.6274509803921569,
              "rgb(236,76,61)"
             ],
             [
              0.6901960784313725,
              "rgb(242,107,73)"
             ],
             [
              0.7529411764705882,
              "rgb(244,135,95)"
             ],
             [
              0.8156862745098039,
              "rgb(245,162,122)"
             ],
             [
              0.8784313725490196,
              "rgb(246,188,153)"
             ],
             [
              0.9411764705882353,
              "rgb(247,212,187)"
             ],
             [
              1,
              "rgb(250,234,220)"
             ]
            ],
            "type": "histogram2d"
           }
          ],
          "histogram2dcontour": [
           {
            "colorbar": {
             "outlinewidth": 0,
             "tickcolor": "rgb(36,36,36)",
             "ticklen": 8,
             "ticks": "outside",
             "tickwidth": 2
            },
            "colorscale": [
             [
              0,
              "rgb(2,4,25)"
             ],
             [
              0.06274509803921569,
              "rgb(24,15,41)"
             ],
             [
              0.12549019607843137,
              "rgb(47,23,57)"
             ],
             [
              0.18823529411764706,
              "rgb(71,28,72)"
             ],
             [
              0.25098039215686274,
              "rgb(97,30,82)"
             ],
             [
              0.3137254901960784,
              "rgb(123,30,89)"
             ],
             [
              0.3764705882352941,
              "rgb(150,27,91)"
             ],
             [
              0.4392156862745098,
              "rgb(177,22,88)"
             ],
             [
              0.5019607843137255,
              "rgb(203,26,79)"
             ],
             [
              0.5647058823529412,
              "rgb(223,47,67)"
             ],
             [
              0.6274509803921569,
              "rgb(236,76,61)"
             ],
             [
              0.6901960784313725,
              "rgb(242,107,73)"
             ],
             [
              0.7529411764705882,
              "rgb(244,135,95)"
             ],
             [
              0.8156862745098039,
              "rgb(245,162,122)"
             ],
             [
              0.8784313725490196,
              "rgb(246,188,153)"
             ],
             [
              0.9411764705882353,
              "rgb(247,212,187)"
             ],
             [
              1,
              "rgb(250,234,220)"
             ]
            ],
            "type": "histogram2dcontour"
           }
          ],
          "mesh3d": [
           {
            "colorbar": {
             "outlinewidth": 0,
             "tickcolor": "rgb(36,36,36)",
             "ticklen": 8,
             "ticks": "outside",
             "tickwidth": 2
            },
            "type": "mesh3d"
           }
          ],
          "parcoords": [
           {
            "line": {
             "colorbar": {
              "outlinewidth": 0,
              "tickcolor": "rgb(36,36,36)",
              "ticklen": 8,
              "ticks": "outside",
              "tickwidth": 2
             }
            },
            "type": "parcoords"
           }
          ],
          "pie": [
           {
            "automargin": true,
            "type": "pie"
           }
          ],
          "scatter": [
           {
            "fillpattern": {
             "fillmode": "overlay",
             "size": 10,
             "solidity": 0.2
            },
            "type": "scatter"
           }
          ],
          "scatter3d": [
           {
            "line": {
             "colorbar": {
              "outlinewidth": 0,
              "tickcolor": "rgb(36,36,36)",
              "ticklen": 8,
              "ticks": "outside",
              "tickwidth": 2
             }
            },
            "marker": {
             "colorbar": {
              "outlinewidth": 0,
              "tickcolor": "rgb(36,36,36)",
              "ticklen": 8,
              "ticks": "outside",
              "tickwidth": 2
             }
            },
            "type": "scatter3d"
           }
          ],
          "scattercarpet": [
           {
            "marker": {
             "colorbar": {
              "outlinewidth": 0,
              "tickcolor": "rgb(36,36,36)",
              "ticklen": 8,
              "ticks": "outside",
              "tickwidth": 2
             }
            },
            "type": "scattercarpet"
           }
          ],
          "scattergeo": [
           {
            "marker": {
             "colorbar": {
              "outlinewidth": 0,
              "tickcolor": "rgb(36,36,36)",
              "ticklen": 8,
              "ticks": "outside",
              "tickwidth": 2
             }
            },
            "type": "scattergeo"
           }
          ],
          "scattergl": [
           {
            "marker": {
             "colorbar": {
              "outlinewidth": 0,
              "tickcolor": "rgb(36,36,36)",
              "ticklen": 8,
              "ticks": "outside",
              "tickwidth": 2
             }
            },
            "type": "scattergl"
           }
          ],
          "scattermapbox": [
           {
            "marker": {
             "colorbar": {
              "outlinewidth": 0,
              "tickcolor": "rgb(36,36,36)",
              "ticklen": 8,
              "ticks": "outside",
              "tickwidth": 2
             }
            },
            "type": "scattermapbox"
           }
          ],
          "scatterpolar": [
           {
            "marker": {
             "colorbar": {
              "outlinewidth": 0,
              "tickcolor": "rgb(36,36,36)",
              "ticklen": 8,
              "ticks": "outside",
              "tickwidth": 2
             }
            },
            "type": "scatterpolar"
           }
          ],
          "scatterpolargl": [
           {
            "marker": {
             "colorbar": {
              "outlinewidth": 0,
              "tickcolor": "rgb(36,36,36)",
              "ticklen": 8,
              "ticks": "outside",
              "tickwidth": 2
             }
            },
            "type": "scatterpolargl"
           }
          ],
          "scatterternary": [
           {
            "marker": {
             "colorbar": {
              "outlinewidth": 0,
              "tickcolor": "rgb(36,36,36)",
              "ticklen": 8,
              "ticks": "outside",
              "tickwidth": 2
             }
            },
            "type": "scatterternary"
           }
          ],
          "surface": [
           {
            "colorbar": {
             "outlinewidth": 0,
             "tickcolor": "rgb(36,36,36)",
             "ticklen": 8,
             "ticks": "outside",
             "tickwidth": 2
            },
            "colorscale": [
             [
              0,
              "rgb(2,4,25)"
             ],
             [
              0.06274509803921569,
              "rgb(24,15,41)"
             ],
             [
              0.12549019607843137,
              "rgb(47,23,57)"
             ],
             [
              0.18823529411764706,
              "rgb(71,28,72)"
             ],
             [
              0.25098039215686274,
              "rgb(97,30,82)"
             ],
             [
              0.3137254901960784,
              "rgb(123,30,89)"
             ],
             [
              0.3764705882352941,
              "rgb(150,27,91)"
             ],
             [
              0.4392156862745098,
              "rgb(177,22,88)"
             ],
             [
              0.5019607843137255,
              "rgb(203,26,79)"
             ],
             [
              0.5647058823529412,
              "rgb(223,47,67)"
             ],
             [
              0.6274509803921569,
              "rgb(236,76,61)"
             ],
             [
              0.6901960784313725,
              "rgb(242,107,73)"
             ],
             [
              0.7529411764705882,
              "rgb(244,135,95)"
             ],
             [
              0.8156862745098039,
              "rgb(245,162,122)"
             ],
             [
              0.8784313725490196,
              "rgb(246,188,153)"
             ],
             [
              0.9411764705882353,
              "rgb(247,212,187)"
             ],
             [
              1,
              "rgb(250,234,220)"
             ]
            ],
            "type": "surface"
           }
          ],
          "table": [
           {
            "cells": {
             "fill": {
              "color": "rgb(231,231,240)"
             },
             "line": {
              "color": "white"
             }
            },
            "header": {
             "fill": {
              "color": "rgb(183,183,191)"
             },
             "line": {
              "color": "white"
             }
            },
            "type": "table"
           }
          ]
         },
         "layout": {
          "annotationdefaults": {
           "arrowcolor": "rgb(67,103,167)"
          },
          "autotypenumbers": "strict",
          "coloraxis": {
           "colorbar": {
            "outlinewidth": 0,
            "tickcolor": "rgb(36,36,36)",
            "ticklen": 8,
            "ticks": "outside",
            "tickwidth": 2
           }
          },
          "colorscale": {
           "sequential": [
            [
             0,
             "rgb(2,4,25)"
            ],
            [
             0.06274509803921569,
             "rgb(24,15,41)"
            ],
            [
             0.12549019607843137,
             "rgb(47,23,57)"
            ],
            [
             0.18823529411764706,
             "rgb(71,28,72)"
            ],
            [
             0.25098039215686274,
             "rgb(97,30,82)"
            ],
            [
             0.3137254901960784,
             "rgb(123,30,89)"
            ],
            [
             0.3764705882352941,
             "rgb(150,27,91)"
            ],
            [
             0.4392156862745098,
             "rgb(177,22,88)"
            ],
            [
             0.5019607843137255,
             "rgb(203,26,79)"
            ],
            [
             0.5647058823529412,
             "rgb(223,47,67)"
            ],
            [
             0.6274509803921569,
             "rgb(236,76,61)"
            ],
            [
             0.6901960784313725,
             "rgb(242,107,73)"
            ],
            [
             0.7529411764705882,
             "rgb(244,135,95)"
            ],
            [
             0.8156862745098039,
             "rgb(245,162,122)"
            ],
            [
             0.8784313725490196,
             "rgb(246,188,153)"
            ],
            [
             0.9411764705882353,
             "rgb(247,212,187)"
            ],
            [
             1,
             "rgb(250,234,220)"
            ]
           ],
           "sequentialminus": [
            [
             0,
             "rgb(2,4,25)"
            ],
            [
             0.06274509803921569,
             "rgb(24,15,41)"
            ],
            [
             0.12549019607843137,
             "rgb(47,23,57)"
            ],
            [
             0.18823529411764706,
             "rgb(71,28,72)"
            ],
            [
             0.25098039215686274,
             "rgb(97,30,82)"
            ],
            [
             0.3137254901960784,
             "rgb(123,30,89)"
            ],
            [
             0.3764705882352941,
             "rgb(150,27,91)"
            ],
            [
             0.4392156862745098,
             "rgb(177,22,88)"
            ],
            [
             0.5019607843137255,
             "rgb(203,26,79)"
            ],
            [
             0.5647058823529412,
             "rgb(223,47,67)"
            ],
            [
             0.6274509803921569,
             "rgb(236,76,61)"
            ],
            [
             0.6901960784313725,
             "rgb(242,107,73)"
            ],
            [
             0.7529411764705882,
             "rgb(244,135,95)"
            ],
            [
             0.8156862745098039,
             "rgb(245,162,122)"
            ],
            [
             0.8784313725490196,
             "rgb(246,188,153)"
            ],
            [
             0.9411764705882353,
             "rgb(247,212,187)"
            ],
            [
             1,
             "rgb(250,234,220)"
            ]
           ]
          },
          "colorway": [
           "rgb(76,114,176)",
           "rgb(221,132,82)",
           "rgb(85,168,104)",
           "rgb(196,78,82)",
           "rgb(129,114,179)",
           "rgb(147,120,96)",
           "rgb(218,139,195)",
           "rgb(140,140,140)",
           "rgb(204,185,116)",
           "rgb(100,181,205)"
          ],
          "font": {
           "color": "rgb(36,36,36)"
          },
          "geo": {
           "bgcolor": "white",
           "lakecolor": "white",
           "landcolor": "rgb(234,234,242)",
           "showlakes": true,
           "showland": true,
           "subunitcolor": "white"
          },
          "hoverlabel": {
           "align": "left"
          },
          "hovermode": "closest",
          "paper_bgcolor": "white",
          "plot_bgcolor": "rgb(234,234,242)",
          "polar": {
           "angularaxis": {
            "gridcolor": "white",
            "linecolor": "white",
            "showgrid": true,
            "ticks": ""
           },
           "bgcolor": "rgb(234,234,242)",
           "radialaxis": {
            "gridcolor": "white",
            "linecolor": "white",
            "showgrid": true,
            "ticks": ""
           }
          },
          "scene": {
           "xaxis": {
            "backgroundcolor": "rgb(234,234,242)",
            "gridcolor": "white",
            "gridwidth": 2,
            "linecolor": "white",
            "showbackground": true,
            "showgrid": true,
            "ticks": "",
            "zerolinecolor": "white"
           },
           "yaxis": {
            "backgroundcolor": "rgb(234,234,242)",
            "gridcolor": "white",
            "gridwidth": 2,
            "linecolor": "white",
            "showbackground": true,
            "showgrid": true,
            "ticks": "",
            "zerolinecolor": "white"
           },
           "zaxis": {
            "backgroundcolor": "rgb(234,234,242)",
            "gridcolor": "white",
            "gridwidth": 2,
            "linecolor": "white",
            "showbackground": true,
            "showgrid": true,
            "ticks": "",
            "zerolinecolor": "white"
           }
          },
          "shapedefaults": {
           "fillcolor": "rgb(67,103,167)",
           "line": {
            "width": 0
           },
           "opacity": 0.5
          },
          "ternary": {
           "aaxis": {
            "gridcolor": "white",
            "linecolor": "white",
            "showgrid": true,
            "ticks": ""
           },
           "baxis": {
            "gridcolor": "white",
            "linecolor": "white",
            "showgrid": true,
            "ticks": ""
           },
           "bgcolor": "rgb(234,234,242)",
           "caxis": {
            "gridcolor": "white",
            "linecolor": "white",
            "showgrid": true,
            "ticks": ""
           }
          },
          "xaxis": {
           "automargin": true,
           "gridcolor": "white",
           "linecolor": "white",
           "showgrid": true,
           "ticks": "",
           "title": {
            "standoff": 15
           },
           "zerolinecolor": "white"
          },
          "yaxis": {
           "automargin": true,
           "gridcolor": "white",
           "linecolor": "white",
           "showgrid": true,
           "ticks": "",
           "title": {
            "standoff": 15
           },
           "zerolinecolor": "white"
          }
         }
        },
        "xaxis": {
         "anchor": "y",
         "domain": [
          0,
          1
         ],
         "title": {
          "text": "Median listing price"
         }
        },
        "yaxis": {
         "anchor": "x",
         "domain": [
          0,
          1
         ],
         "title": {
          "text": "Median yield %"
         }
        }
       }
      },
      "text/html": [
       "<div>                            <div id=\"fee8dd47-0da6-4ecf-be6f-ce3c8b06ba13\" class=\"plotly-graph-div\" style=\"height:525px; width:100%;\"></div>            <script type=\"text/javascript\">                require([\"plotly\"], function(Plotly) {                    window.PLOTLYENV=window.PLOTLYENV || {};                                    if (document.getElementById(\"fee8dd47-0da6-4ecf-be6f-ce3c8b06ba13\")) {                    Plotly.newPlot(                        \"fee8dd47-0da6-4ecf-be6f-ce3c8b06ba13\",                        [{\"customdata\":[[\"Belmont\"],[\"Hexham\"],[\"Hamilton\"],[\"Sassafras\"],[\"St Albans\"],[\"Box Hill\"],[\"Nelson\"],[\"Kings Park\"],[\"Sydenham\"],[\"Beaconsfield\"],[\"Canterbury\"],[\"Carlton\"],[\"Mortlake\"],[\"Abbotsford\"],[\"Croydon\"],[\"Brooklyn\"],[\"Avalon\"],[\"Newport\"],[\"Wedderburn\"],[\"Richmond\"],[\"Windsor\"],[\"Clyde\"],[\"Cheltenham\"],[\"Greendale\"],[\"Alfredton\"],[\"Ballarat\"],[\"Buninyong\"],[\"Delacombe\"],[\"Smythes Creek\"],[\"Wendouree\"],[\"Miners Rest\"],[\"Ballarat East\"],[\"Warrenheip\"],[\"Ballarat North\"],[\"Canadian\"],[\"Mount Clear\"],[\"Sebastopol\"],[\"Redan\"],[\"Creswick\"],[\"Clunes\"],[\"Daylesford\"],[\"Beaufort\"],[\"Bendigo\"],[\"California Gully\"],[\"Eaglehawk\"],[\"East Bendigo\"],[\"Kennington\"],[\"Flora Hill\"],[\"Spring Gully\"],[\"Kangaroo Flat\"],[\"Golden Square\"],[\"Maiden Gully\"],[\"Strathfieldsaye\"],[\"White Hills\"],[\"Castlemaine\"],[\"Kyneton\"],[\"Woodend\"],[\"Bannockburn\"],[\"Winchelsea\"],[\"Geelong\"],[\"Geelong West\"],[\"Hamlyn Heights\"],[\"Highton\"],[\"Lara\"],[\"Leopold\"],[\"Newcomb\"],[\"Moolap\"],[\"North Geelong\"],[\"Bell Park\"],[\"Charlemont\"],[\"Corio\"],[\"Lovely Banks\"],[\"Grovedale\"],[\"Mount Duneed\"],[\"Norlane\"],[\"Clifton Springs\"],[\"Lorne\"],[\"Anglesea\"],[\"Portarlington\"],[\"Point Lonsdale\"],[\"Torquay\"],[\"Barwon Heads\"],[\"Armstrong Creek\"],[\"Ocean Grove\"],[\"Alexandra\"],[\"Euroa\"],[\"Kilmore\"],[\"Broadford\"],[\"Nagambie\"],[\"Seymour\"],[\"Yea\"],[\"Benalla\"],[\"Rutherglen\"],[\"Wangaratta\"],[\"Beechworth\"],[\"Bright\"],[\"Mount Beauty\"],[\"Chiltern\"],[\"Indigo Valley\"],[\"Myrtleford\"],[\"Towong\"],[\"West Wodonga\"],[\"Yackandandah\"],[\"Baranduda\"],[\"Leneva\"],[\"Wodonga\"],[\"Drouin\"],[\"Warragul\"],[\"Bairnsdale\"],[\"Bruthen\"],[\"Omeo\"],[\"Lakes Entrance\"],[\"Orbost\"],[\"Paynesville\"],[\"Foster\"],[\"French Island\"],[\"Korumburra\"],[\"Leongatha\"],[\"Wilsons Promontory\"],[\"Wonthaggi\"],[\"Inverloch\"],[\"Churchill\"],[\"Moe\"],[\"Newborough\"],[\"Morwell\"],[\"Yallourn North\"],[\"Glengarry\"],[\"Traralgon\"],[\"Loch Sport\"],[\"Maffra\"],[\"Rosedale\"],[\"Sale\"],[\"Yarram\"],[\"Brunswick East\"],[\"Brunswick West\"],[\"Pascoe Vale South\"],[\"Brunswick\"],[\"Coburg\"],[\"Alphington\"],[\"Thornbury\"],[\"Northcote\"],[\"Ascot Vale\"],[\"Flemington\"],[\"Moonee Ponds\"],[\"Aberfeldie\"],[\"Essendon\"],[\"Docklands\"],[\"East Melbourne\"],[\"Parkville\"],[\"South Yarra\"],[\"West Melbourne\"],[\"North Melbourne\"],[\"South Wharf\"],[\"Southbank\"],[\"Albert Park\"],[\"Elwood\"],[\"Port Melbourne\"],[\"St Kilda East\"],[\"South Melbourne\"],[\"St Kilda\"],[\"Prahran\"],[\"Toorak\"],[\"Carlton North\"],[\"Princes Hill\"],[\"Collingwood\"],[\"Fitzroy\"],[\"Fitzroy North\"],[\"Clifton Hill\"],[\"Balwyn\"],[\"Balwyn North\"],[\"Camberwell\"],[\"Glen Iris\"],[\"Hawthorn East\"],[\"Kew East\"],[\"Hawthorn\"],[\"Kew\"],[\"Bulleen\"],[\"Doncaster\"],[\"Templestowe\"],[\"Templestowe Lower\"],[\"Doncaster East\"],[\"Blackburn\"],[\"Blackburn South\"],[\"Box Hill North\"],[\"Burwood East\"],[\"Mont Albert\"],[\"Beaumaris\"],[\"Brighton East\"],[\"Hampton\"],[\"Sandringham\"],[\"Black Rock\"],[\"Bentleigh\"],[\"McKinnon\"],[\"Carnegie\"],[\"Caulfield\"],[\"Elsternwick\"],[\"Hughesdale\"],[\"Murrumbeena\"],[\"Ormond\"],[\"Glen Huntly\"],[\"Bentleigh East\"],[\"Aspendale Gardens\"],[\"Waterways\"],[\"Braeside\"],[\"Carrum\"],[\"Patterson Lakes\"],[\"Chelsea\"],[\"Bonbeach\"],[\"Chelsea Heights\"],[\"Edithvale\"],[\"Aspendale\"],[\"Mentone\"],[\"Moorabbin\"],[\"Heatherton\"],[\"Mordialloc\"],[\"Parkdale\"],[\"Malvern\"],[\"Malvern East\"],[\"Bundoora\"],[\"Greensborough\"],[\"Heidelberg\"],[\"Rosanna\"],[\"Heidelberg West\"],[\"Ivanhoe\"],[\"Ivanhoe East\"],[\"Eaglemont\"],[\"Montmorency\"],[\"Briar Hill\"],[\"Viewbank\"],[\"Yallambie\"],[\"Watsonia\"],[\"Kingsbury\"],[\"Preston\"],[\"Reservoir\"],[\"Eltham\"],[\"Hurstbridge\"],[\"Panton Hill\"],[\"Plenty\"],[\"Yarrambat\"],[\"Research\"],[\"North Warrandyte\"],[\"Wattle Glen\"],[\"Diamond Creek\"],[\"Mill Park\"],[\"Thomastown\"],[\"Wallan\"],[\"Whittlesea\"],[\"Epping\"],[\"South Morang\"],[\"Wollert\"],[\"Doreen\"],[\"Lalor\"],[\"Mernda\"],[\"Airport West\"],[\"Keilor\"],[\"Niddrie\"],[\"Essendon West\"],[\"Strathmore\"],[\"Avondale Heights\"],[\"Keilor East\"],[\"Gisborne\"],[\"Macedon\"],[\"Riddells Creek\"],[\"Romsey\"],[\"Coburg North\"],[\"Fawkner\"],[\"Gowanbrae\"],[\"Hadfield\"],[\"Glenroy\"],[\"Oak Park\"],[\"Pascoe Vale\"],[\"Sunbury\"],[\"Diggers Rest\"],[\"Broadmeadows\"],[\"Campbellfield\"],[\"Coolaroo\"],[\"Gladstone Park\"],[\"Westmeadows\"],[\"Greenvale\"],[\"Bulla\"],[\"Meadow Heights\"],[\"Melbourne Airport\"],[\"Tullamarine\"],[\"Craigieburn\"],[\"Mickleham\"],[\"Yuroke\"],[\"Roxburgh Park\"],[\"Knoxfield\"],[\"Scoresby\"],[\"Lysterfield\"],[\"Rowville\"],[\"Wantirna\"],[\"Wantirna South\"],[\"Boronia\"],[\"Ferntree Gully\"],[\"Upper Ferntree Gully\"],[\"The Basin\"],[\"Donvale\"],[\"Park Orchards\"],[\"Warrandyte\"],[\"Wonga Park\"],[\"Bayswater North\"],[\"Croydon Hills\"],[\"Warranwood\"],[\"Ringwood\"],[\"Ringwood East\"],[\"Ringwood North\"],[\"Croydon South\"],[\"Forest Hill\"],[\"Nunawading\"],[\"Vermont\"],[\"Vermont South\"],[\"Belgrave\"],[\"Selby\"],[\"Chirnside Park\"],[\"Healesville\"],[\"Yarra Glen\"],[\"Kilsyth\"],[\"Lilydale\"],[\"Coldstream\"],[\"Monbulk\"],[\"Silvan\"],[\"Montrose\"],[\"Mooroolbark\"],[\"Mount Dandenong\"],[\"Olinda\"],[\"Mount Evelyn\"],[\"Upwey\"],[\"Tecoma\"],[\"Seville\"],[\"Cockatoo\"],[\"Officer\"],[\"Bunyip\"],[\"Garfield\"],[\"Koo Wee Rup\"],[\"Pakenham\"],[\"Berwick\"],[\"Doveton\"],[\"Hallam\"],[\"Narre Warren North\"],[\"Endeavour Hills\"],[\"Narre Warren\"],[\"Cranbourne\"],[\"Cranbourne South\"],[\"Cranbourne West\"],[\"Lynbrook\"],[\"Lyndhurst\"],[\"Pearcedale\"],[\"Tooradin\"],[\"Narre Warren South\"],[\"Clyde North\"],[\"Cranbourne East\"],[\"Cranbourne North\"],[\"Hampton Park\"],[\"Clarinda\"],[\"Oakleigh South\"],[\"Clayton South\"],[\"Dandenong North\"],[\"Dingley Village\"],[\"Noble Park North\"],[\"Springvale\"],[\"Springvale South\"],[\"Noble Park\"],[\"Dandenong\"],[\"Keysborough\"],[\"Ashwood\"],[\"Chadstone\"],[\"Glen Waverley\"],[\"Mount Waverley\"],[\"Mulgrave\"],[\"Oakleigh\"],[\"Wheelers Hill\"],[\"Notting Hill\"],[\"Clayton\"],[\"Ardeer\"],[\"Albion\"],[\"Cairnlea\"],[\"Delahey\"],[\"Keilor Downs\"],[\"Sunshine\"],[\"Sunshine North\"],[\"Sunshine West\"],[\"Taylors Lakes\"],[\"Deer Park\"],[\"Derrimut\"],[\"Altona\"],[\"Altona Meadows\"],[\"Altona North\"],[\"Seabrook\"],[\"Williamstown\"],[\"Braybrook\"],[\"Footscray\"],[\"Maribyrnong\"],[\"Seddon\"],[\"Kingsville\"],[\"West Footscray\"],[\"Yarraville\"],[\"Bacchus Marsh\"],[\"Melton West\"],[\"Rockbank\"],[\"Mount Cottrell\"],[\"Taylors Hill\"],[\"Burnside\"],[\"Burnside Heights\"],[\"Caroline Springs\"],[\"Brookfield\"],[\"Eynesbury\"],[\"Exford\"],[\"Kurunjang\"],[\"Toolern Vale\"],[\"Melton\"],[\"Melton South\"],[\"Hoppers Crossing\"],[\"Laverton\"],[\"Werribee\"],[\"Point Cook\"],[\"Tarneit\"],[\"Truganina\"],[\"Wyndham Vale\"],[\"Carrum Downs\"],[\"Frankston\"],[\"Frankston North\"],[\"Frankston South\"],[\"Langwarrin\"],[\"Skye\"],[\"Sandhurst\"],[\"Dromana\"],[\"Hastings\"],[\"Somers\"],[\"Mount Eliza\"],[\"Mount Martha\"],[\"Rosebud\"],[\"McCrae\"],[\"Somerville\"],[\"Mornington\"],[\"Ararat\"],[\"Horsham\"],[\"St Arnaud\"],[\"Stawell\"],[\"Irymple\"],[\"Merbein\"],[\"Red Cliffs\"],[\"Mildura\"],[\"Gannawarra\"],[\"Kerang\"],[\"Robinvale\"],[\"Swan Hill\"],[\"Echuca\"],[\"Kyabram\"],[\"Lockington\"],[\"Gunbower\"],[\"Rochester\"],[\"Rushworth\"],[\"Cobram\"],[\"Numurkah\"],[\"Yarrawonga\"],[\"Mooroopna\"],[\"Shepparton\"],[\"Kialla\"],[\"Portland\"],[\"Colac\"],[\"Warrnambool\"],[\"Middle Park\"],[\"Stratford\"],[\"Douglas\"],[\"Seaford\"],[\"Herne Hill\"],[\"Welshpool\"],[\"Brighton\"],[\"Simpson\"],[\"Barkly\"],[\"Mount Taylor\"],[\"South Dudley\"],[\"North Bendigo\"],[\"West Bendigo\"],[\"East Geelong\"],[\"South Geelong\"],[\"North Wangaratta\"],[\"East Wangaratta\"],[\"East Bairnsdale\"],[\"North Wonthaggi\"],[\"South Kingsville\"],[\"North Blackwood\"]],\"hovertemplate\":\"Median listing price=%{x}\\u003cbr\\u003eMedian yield %=%{y}\\u003cbr\\u003eSuburb=%{customdata[0]}\\u003cextra\\u003e\\u003c\\u002fextra\\u003e\",\"legendgroup\":\"\",\"marker\":{\"color\":\"rgb(76,114,176)\",\"symbol\":\"circle\"},\"mode\":\"markers\",\"name\":\"\",\"orientation\":\"v\",\"showlegend\":false,\"x\":[459000.0,null,269000.0,null,460000.0,580000.0,null,null,430000.0,null,810000.0,415000.0,null,470000.0,580000.0,500000.0,null,580000.0,null,535000.0,490000.0,null,580000.0,null,null,null,null,null,null,320000.0,null,350000.0,null,324000.0,377500.0,null,334500.0,322000.0,null,null,null,null,461500.0,null,null,null,390000.0,385000.0,425000.0,355000.0,360000.0,null,null,null,null,null,null,null,null,619000.0,399500.0,430000.0,459000.0,439000.0,480000.0,440000.0,null,null,485000.0,null,382000.0,null,452000.0,null,425000.0,null,695000.0,null,650000.0,null,810000.0,null,null,690000.0,null,null,397000.0,null,null,395000.0,null,297500.0,null,349000.0,null,629000.0,null,null,null,null,null,369000.0,null,null,null,385000.0,430000.0,442500.0,350000.0,null,null,440000.0,null,419000.0,410000.0,null,null,419000.0,null,395000.0,627000.0,null,250000.0,null,280000.0,null,null,319500.0,null,null,null,320000.0,337000.0,490000.0,430000.0,507500.0,540000.0,490000.0,744000.0,500000.0,549000.0,470000.0,385000.0,517500.0,null,465000.0,600000.0,730000.0,480000.0,550000.0,510000.0,497500.0,null,597500.0,747500.0,650000.0,722500.0,540000.0,609500.0,525000.0,500000.0,940000.0,660000.0,null,590000.0,800000.0,549500.0,647500.0,690000.0,695000.0,720000.0,675000.0,550000.0,665000.0,530000.0,660000.0,675000.0,550000.0,700000.0,640000.0,580000.0,580000.0,600000.0,686000.0,530000.0,700000.0,790000.0,800000.0,840000.0,850000.0,820000.0,600000.0,665000.0,530000.0,699500.0,700000.0,530000.0,505000.0,525000.0,550000.0,570000.0,null,null,null,680000.0,580000.0,590000.0,580000.0,null,600000.0,699000.0,540000.0,650000.0,null,580000.0,600000.0,780000.0,540000.0,400000.0,650000.0,570000.0,690000.0,470000.0,635000.0,992500.0,null,655000.0,null,null,null,590000.0,435000.0,460000.0,500000.0,700000.0,null,null,null,null,null,null,null,750000.0,395000.0,445000.0,435000.0,null,380000.0,null,null,null,432500.0,null,570000.0,null,512500.0,null,500000.0,null,685000.0,545000.0,null,null,490000.0,557500.0,480000.0,null,400000.0,489500.0,530000.0,540000.0,450000.0,null,400000.0,null,null,null,null,null,null,427500.0,null,450000.0,400000.0,null,null,null,750000.0,null,null,620000.0,null,455000.0,595000.0,580000.0,null,null,730000.0,null,null,null,567500.0,null,null,530000.0,650000.0,null,null,600000.0,649000.0,750000.0,null,null,null,null,570000.0,null,640000.0,540000.0,null,null,null,null,640000.0,null,null,null,null,null,null,null,651500.0,null,null,null,450000.0,590000.0,489500.0,480000.0,null,560000.0,502500.0,460000.0,null,null,null,null,null,null,null,728000.0,530000.0,499000.0,499500.0,650000.0,550000.0,450000.0,500000.0,690000.0,null,480000.0,550000.0,480000.0,370000.0,600000.0,690000.0,487500.0,680000.0,850000.0,685000.0,550000.0,null,330000.0,500000.0,null,280000.0,409000.0,null,540000.0,450000.0,500000.0,490000.0,null,450000.0,null,625000.0,495000.0,645000.0,null,590000.0,395000.0,485000.0,420000.0,480000.0,400000.0,372500.0,500000.0,464500.0,392000.0,null,null,null,null,null,450000.0,null,null,null,null,null,369000.0,369000.0,400000.0,480000.0,400000.0,480000.0,445000.0,null,437500.0,505000.0,465000.0,null,680000.0,540000.0,null,null,595000.0,482500.0,null,750000.0,785000.0,550000.0,630000.0,575000.0,700000.0,330000.0,352500.0,null,327000.0,null,null,null,280000.0,null,null,null,null,405000.0,null,null,null,null,null,319000.0,null,395000.0,277500.0,372000.0,null,307000.0,427000.0,387500.0,800000.0,null,null,550000.0,339500.0,null,1282000.0,null,null,null,null,null,null,null,null,null,null,null,null,null,null],\"xaxis\":\"x\",\"y\":[4.75,null,5.41,null,4.4,4.75,null,null,5.07,null,3.81,6.01,null,5.86,4.48,4.16,null,4.12,null,5.34,5.3,null,4.43,null,null,null,null,null,null,5.03,null,5.05,null,5.21,null,null,5.44,5.0,null,null,null,null,4.05,null,null,null,5.06,4.86,null,5.12,5.2,null,null,null,null,null,null,null,null,4.11,5.07,4.47,4.47,4.73,4.55,4.49,null,null,4.5,null,4.15,null,4.88,null,4.58,null,3.74,null,3.36,null,3.2,null,null,3.57,null,null,4.91,null,null,4.6,null,5.68,null,5.06,null,3.3,null,null,null,null,null,null,null,null,null,4.72,4.53,4.46,5.34,null,null,4.01,null,4.77,4.05,null,null,3.97,null,5.26,3.56,null,5.51,null,5.2,null,null,5.28,null,null,null,4.71,null,5.3,5.44,4.76,4.71,5.09,3.87,4.31,4.54,5.08,5.8,5.02,null,5.03,5.2,4.27,5.57,5.1,5.7,4.96,null,5.22,3.61,4.12,4.49,4.81,4.94,5.15,4.99,3.2,4.13,null,4.93,3.9,5.01,3.97,4.22,4.18,3.97,3.85,4.72,4.14,4.85,4.29,4.12,5.2,3.86,4.46,5.02,4.3,4.33,3.94,5.73,4.08,3.81,3.86,3.86,3.36,3.8,5.02,4.69,4.7,3.97,3.86,5.29,4.37,4.45,4.39,5.01,null,null,null,4.01,4.7,4.31,4.43,null,4.5,4.09,4.62,4.08,null,4.48,4.29,3.33,4.52,5.72,3.76,4.33,3.61,5.2,4.25,2.75,null,3.96,null,null,null,3.92,4.78,5.08,4.68,3.71,null,null,null,null,null,null,null,null,5.92,4.67,4.66,null,5.88,null,null,null,5.29,null,4.42,null,5.27,null,5.2,null,3.87,4.29,null,null,null,4.47,4.87,null,5.2,4.78,4.66,4.57,4.96,null,5.85,null,null,null,null,null,null,5.47,null,5.08,5.59,null,null,null,3.77,null,null,4.19,null,5.6,4.19,4.48,null,null,3.73,null,null,null,4.35,null,null,4.8,3.84,null,null,4.2,3.76,3.46,null,null,null,null,null,null,3.77,4.28,null,null,null,null,4.02,null,null,null,null,null,null,null,null,null,null,null,5.08,4.23,4.88,5.14,null,4.59,4.91,4.97,null,null,null,null,null,null,null,null,null,5.0,4.68,4.56,4.72,5.77,4.68,null,null,4.65,3.97,4.55,5.62,4.59,3.99,5.65,4.58,3.36,3.26,5.2,null,7.64,5.2,null,6.5,5.72,null,4.38,4.27,4.42,4.45,null,4.62,null,3.74,4.46,3.5,null,4.36,5.92,5.14,5.88,4.65,5.0,5.44,4.68,3.91,4.97,null,null,null,null,null,5.08,null,null,null,null,null,4.93,4.93,4.94,5.03,4.87,4.98,5.25,null,4.87,4.89,4.58,null,3.74,4.57,null,null,4.06,4.74,null,3.53,3.74,4.34,null,4.2,3.9,5.2,4.42,null,4.13,null,null,null,5.94,null,null,null,null,4.87,null,null,null,null,null,4.8,null,4.93,6.09,4.82,null,5.58,4.01,5.36,3.64,null,null,4.25,5.2,null,2.71,null,null,null,null,null,null,null,null,null,null,null,null,null,null],\"yaxis\":\"y\",\"type\":\"scatter\"}],                        {\"template\":{\"data\":{\"barpolar\":[{\"marker\":{\"line\":{\"color\":\"rgb(234,234,242)\",\"width\":0.5},\"pattern\":{\"fillmode\":\"overlay\",\"size\":10,\"solidity\":0.2}},\"type\":\"barpolar\"}],\"bar\":[{\"error_x\":{\"color\":\"rgb(36,36,36)\"},\"error_y\":{\"color\":\"rgb(36,36,36)\"},\"marker\":{\"line\":{\"color\":\"rgb(234,234,242)\",\"width\":0.5},\"pattern\":{\"fillmode\":\"overlay\",\"size\":10,\"solidity\":0.2}},\"type\":\"bar\"}],\"carpet\":[{\"aaxis\":{\"endlinecolor\":\"rgb(36,36,36)\",\"gridcolor\":\"white\",\"linecolor\":\"white\",\"minorgridcolor\":\"white\",\"startlinecolor\":\"rgb(36,36,36)\"},\"baxis\":{\"endlinecolor\":\"rgb(36,36,36)\",\"gridcolor\":\"white\",\"linecolor\":\"white\",\"minorgridcolor\":\"white\",\"startlinecolor\":\"rgb(36,36,36)\"},\"type\":\"carpet\"}],\"choropleth\":[{\"colorbar\":{\"outlinewidth\":0,\"tickcolor\":\"rgb(36,36,36)\",\"ticklen\":8,\"ticks\":\"outside\",\"tickwidth\":2},\"type\":\"choropleth\"}],\"contourcarpet\":[{\"colorbar\":{\"outlinewidth\":0,\"tickcolor\":\"rgb(36,36,36)\",\"ticklen\":8,\"ticks\":\"outside\",\"tickwidth\":2},\"type\":\"contourcarpet\"}],\"contour\":[{\"colorbar\":{\"outlinewidth\":0,\"tickcolor\":\"rgb(36,36,36)\",\"ticklen\":8,\"ticks\":\"outside\",\"tickwidth\":2},\"colorscale\":[[0.0,\"rgb(2,4,25)\"],[0.06274509803921569,\"rgb(24,15,41)\"],[0.12549019607843137,\"rgb(47,23,57)\"],[0.18823529411764706,\"rgb(71,28,72)\"],[0.25098039215686274,\"rgb(97,30,82)\"],[0.3137254901960784,\"rgb(123,30,89)\"],[0.3764705882352941,\"rgb(150,27,91)\"],[0.4392156862745098,\"rgb(177,22,88)\"],[0.5019607843137255,\"rgb(203,26,79)\"],[0.5647058823529412,\"rgb(223,47,67)\"],[0.6274509803921569,\"rgb(236,76,61)\"],[0.6901960784313725,\"rgb(242,107,73)\"],[0.7529411764705882,\"rgb(244,135,95)\"],[0.8156862745098039,\"rgb(245,162,122)\"],[0.8784313725490196,\"rgb(246,188,153)\"],[0.9411764705882353,\"rgb(247,212,187)\"],[1.0,\"rgb(250,234,220)\"]],\"type\":\"contour\"}],\"heatmapgl\":[{\"colorbar\":{\"outlinewidth\":0,\"tickcolor\":\"rgb(36,36,36)\",\"ticklen\":8,\"ticks\":\"outside\",\"tickwidth\":2},\"colorscale\":[[0.0,\"rgb(2,4,25)\"],[0.06274509803921569,\"rgb(24,15,41)\"],[0.12549019607843137,\"rgb(47,23,57)\"],[0.18823529411764706,\"rgb(71,28,72)\"],[0.25098039215686274,\"rgb(97,30,82)\"],[0.3137254901960784,\"rgb(123,30,89)\"],[0.3764705882352941,\"rgb(150,27,91)\"],[0.4392156862745098,\"rgb(177,22,88)\"],[0.5019607843137255,\"rgb(203,26,79)\"],[0.5647058823529412,\"rgb(223,47,67)\"],[0.6274509803921569,\"rgb(236,76,61)\"],[0.6901960784313725,\"rgb(242,107,73)\"],[0.7529411764705882,\"rgb(244,135,95)\"],[0.8156862745098039,\"rgb(245,162,122)\"],[0.8784313725490196,\"rgb(246,188,153)\"],[0.9411764705882353,\"rgb(247,212,187)\"],[1.0,\"rgb(250,234,220)\"]],\"type\":\"heatmapgl\"}],\"heatmap\":[{\"colorbar\":{\"outlinewidth\":0,\"tickcolor\":\"rgb(36,36,36)\",\"ticklen\":8,\"ticks\":\"outside\",\"tickwidth\":2},\"colorscale\":[[0.0,\"rgb(2,4,25)\"],[0.06274509803921569,\"rgb(24,15,41)\"],[0.12549019607843137,\"rgb(47,23,57)\"],[0.18823529411764706,\"rgb(71,28,72)\"],[0.25098039215686274,\"rgb(97,30,82)\"],[0.3137254901960784,\"rgb(123,30,89)\"],[0.3764705882352941,\"rgb(150,27,91)\"],[0.4392156862745098,\"rgb(177,22,88)\"],[0.5019607843137255,\"rgb(203,26,79)\"],[0.5647058823529412,\"rgb(223,47,67)\"],[0.6274509803921569,\"rgb(236,76,61)\"],[0.6901960784313725,\"rgb(242,107,73)\"],[0.7529411764705882,\"rgb(244,135,95)\"],[0.8156862745098039,\"rgb(245,162,122)\"],[0.8784313725490196,\"rgb(246,188,153)\"],[0.9411764705882353,\"rgb(247,212,187)\"],[1.0,\"rgb(250,234,220)\"]],\"type\":\"heatmap\"}],\"histogram2dcontour\":[{\"colorbar\":{\"outlinewidth\":0,\"tickcolor\":\"rgb(36,36,36)\",\"ticklen\":8,\"ticks\":\"outside\",\"tickwidth\":2},\"colorscale\":[[0.0,\"rgb(2,4,25)\"],[0.06274509803921569,\"rgb(24,15,41)\"],[0.12549019607843137,\"rgb(47,23,57)\"],[0.18823529411764706,\"rgb(71,28,72)\"],[0.25098039215686274,\"rgb(97,30,82)\"],[0.3137254901960784,\"rgb(123,30,89)\"],[0.3764705882352941,\"rgb(150,27,91)\"],[0.4392156862745098,\"rgb(177,22,88)\"],[0.5019607843137255,\"rgb(203,26,79)\"],[0.5647058823529412,\"rgb(223,47,67)\"],[0.6274509803921569,\"rgb(236,76,61)\"],[0.6901960784313725,\"rgb(242,107,73)\"],[0.7529411764705882,\"rgb(244,135,95)\"],[0.8156862745098039,\"rgb(245,162,122)\"],[0.8784313725490196,\"rgb(246,188,153)\"],[0.9411764705882353,\"rgb(247,212,187)\"],[1.0,\"rgb(250,234,220)\"]],\"type\":\"histogram2dcontour\"}],\"histogram2d\":[{\"colorbar\":{\"outlinewidth\":0,\"tickcolor\":\"rgb(36,36,36)\",\"ticklen\":8,\"ticks\":\"outside\",\"tickwidth\":2},\"colorscale\":[[0.0,\"rgb(2,4,25)\"],[0.06274509803921569,\"rgb(24,15,41)\"],[0.12549019607843137,\"rgb(47,23,57)\"],[0.18823529411764706,\"rgb(71,28,72)\"],[0.25098039215686274,\"rgb(97,30,82)\"],[0.3137254901960784,\"rgb(123,30,89)\"],[0.3764705882352941,\"rgb(150,27,91)\"],[0.4392156862745098,\"rgb(177,22,88)\"],[0.5019607843137255,\"rgb(203,26,79)\"],[0.5647058823529412,\"rgb(223,47,67)\"],[0.6274509803921569,\"rgb(236,76,61)\"],[0.6901960784313725,\"rgb(242,107,73)\"],[0.7529411764705882,\"rgb(244,135,95)\"],[0.8156862745098039,\"rgb(245,162,122)\"],[0.8784313725490196,\"rgb(246,188,153)\"],[0.9411764705882353,\"rgb(247,212,187)\"],[1.0,\"rgb(250,234,220)\"]],\"type\":\"histogram2d\"}],\"histogram\":[{\"marker\":{\"pattern\":{\"fillmode\":\"overlay\",\"size\":10,\"solidity\":0.2}},\"type\":\"histogram\"}],\"mesh3d\":[{\"colorbar\":{\"outlinewidth\":0,\"tickcolor\":\"rgb(36,36,36)\",\"ticklen\":8,\"ticks\":\"outside\",\"tickwidth\":2},\"type\":\"mesh3d\"}],\"parcoords\":[{\"line\":{\"colorbar\":{\"outlinewidth\":0,\"tickcolor\":\"rgb(36,36,36)\",\"ticklen\":8,\"ticks\":\"outside\",\"tickwidth\":2}},\"type\":\"parcoords\"}],\"pie\":[{\"automargin\":true,\"type\":\"pie\"}],\"scatter3d\":[{\"line\":{\"colorbar\":{\"outlinewidth\":0,\"tickcolor\":\"rgb(36,36,36)\",\"ticklen\":8,\"ticks\":\"outside\",\"tickwidth\":2}},\"marker\":{\"colorbar\":{\"outlinewidth\":0,\"tickcolor\":\"rgb(36,36,36)\",\"ticklen\":8,\"ticks\":\"outside\",\"tickwidth\":2}},\"type\":\"scatter3d\"}],\"scattercarpet\":[{\"marker\":{\"colorbar\":{\"outlinewidth\":0,\"tickcolor\":\"rgb(36,36,36)\",\"ticklen\":8,\"ticks\":\"outside\",\"tickwidth\":2}},\"type\":\"scattercarpet\"}],\"scattergeo\":[{\"marker\":{\"colorbar\":{\"outlinewidth\":0,\"tickcolor\":\"rgb(36,36,36)\",\"ticklen\":8,\"ticks\":\"outside\",\"tickwidth\":2}},\"type\":\"scattergeo\"}],\"scattergl\":[{\"marker\":{\"colorbar\":{\"outlinewidth\":0,\"tickcolor\":\"rgb(36,36,36)\",\"ticklen\":8,\"ticks\":\"outside\",\"tickwidth\":2}},\"type\":\"scattergl\"}],\"scattermapbox\":[{\"marker\":{\"colorbar\":{\"outlinewidth\":0,\"tickcolor\":\"rgb(36,36,36)\",\"ticklen\":8,\"ticks\":\"outside\",\"tickwidth\":2}},\"type\":\"scattermapbox\"}],\"scatterpolargl\":[{\"marker\":{\"colorbar\":{\"outlinewidth\":0,\"tickcolor\":\"rgb(36,36,36)\",\"ticklen\":8,\"ticks\":\"outside\",\"tickwidth\":2}},\"type\":\"scatterpolargl\"}],\"scatterpolar\":[{\"marker\":{\"colorbar\":{\"outlinewidth\":0,\"tickcolor\":\"rgb(36,36,36)\",\"ticklen\":8,\"ticks\":\"outside\",\"tickwidth\":2}},\"type\":\"scatterpolar\"}],\"scatter\":[{\"fillpattern\":{\"fillmode\":\"overlay\",\"size\":10,\"solidity\":0.2},\"type\":\"scatter\"}],\"scatterternary\":[{\"marker\":{\"colorbar\":{\"outlinewidth\":0,\"tickcolor\":\"rgb(36,36,36)\",\"ticklen\":8,\"ticks\":\"outside\",\"tickwidth\":2}},\"type\":\"scatterternary\"}],\"surface\":[{\"colorbar\":{\"outlinewidth\":0,\"tickcolor\":\"rgb(36,36,36)\",\"ticklen\":8,\"ticks\":\"outside\",\"tickwidth\":2},\"colorscale\":[[0.0,\"rgb(2,4,25)\"],[0.06274509803921569,\"rgb(24,15,41)\"],[0.12549019607843137,\"rgb(47,23,57)\"],[0.18823529411764706,\"rgb(71,28,72)\"],[0.25098039215686274,\"rgb(97,30,82)\"],[0.3137254901960784,\"rgb(123,30,89)\"],[0.3764705882352941,\"rgb(150,27,91)\"],[0.4392156862745098,\"rgb(177,22,88)\"],[0.5019607843137255,\"rgb(203,26,79)\"],[0.5647058823529412,\"rgb(223,47,67)\"],[0.6274509803921569,\"rgb(236,76,61)\"],[0.6901960784313725,\"rgb(242,107,73)\"],[0.7529411764705882,\"rgb(244,135,95)\"],[0.8156862745098039,\"rgb(245,162,122)\"],[0.8784313725490196,\"rgb(246,188,153)\"],[0.9411764705882353,\"rgb(247,212,187)\"],[1.0,\"rgb(250,234,220)\"]],\"type\":\"surface\"}],\"table\":[{\"cells\":{\"fill\":{\"color\":\"rgb(231,231,240)\"},\"line\":{\"color\":\"white\"}},\"header\":{\"fill\":{\"color\":\"rgb(183,183,191)\"},\"line\":{\"color\":\"white\"}},\"type\":\"table\"}]},\"layout\":{\"annotationdefaults\":{\"arrowcolor\":\"rgb(67,103,167)\"},\"autotypenumbers\":\"strict\",\"coloraxis\":{\"colorbar\":{\"outlinewidth\":0,\"tickcolor\":\"rgb(36,36,36)\",\"ticklen\":8,\"ticks\":\"outside\",\"tickwidth\":2}},\"colorscale\":{\"sequential\":[[0.0,\"rgb(2,4,25)\"],[0.06274509803921569,\"rgb(24,15,41)\"],[0.12549019607843137,\"rgb(47,23,57)\"],[0.18823529411764706,\"rgb(71,28,72)\"],[0.25098039215686274,\"rgb(97,30,82)\"],[0.3137254901960784,\"rgb(123,30,89)\"],[0.3764705882352941,\"rgb(150,27,91)\"],[0.4392156862745098,\"rgb(177,22,88)\"],[0.5019607843137255,\"rgb(203,26,79)\"],[0.5647058823529412,\"rgb(223,47,67)\"],[0.6274509803921569,\"rgb(236,76,61)\"],[0.6901960784313725,\"rgb(242,107,73)\"],[0.7529411764705882,\"rgb(244,135,95)\"],[0.8156862745098039,\"rgb(245,162,122)\"],[0.8784313725490196,\"rgb(246,188,153)\"],[0.9411764705882353,\"rgb(247,212,187)\"],[1.0,\"rgb(250,234,220)\"]],\"sequentialminus\":[[0.0,\"rgb(2,4,25)\"],[0.06274509803921569,\"rgb(24,15,41)\"],[0.12549019607843137,\"rgb(47,23,57)\"],[0.18823529411764706,\"rgb(71,28,72)\"],[0.25098039215686274,\"rgb(97,30,82)\"],[0.3137254901960784,\"rgb(123,30,89)\"],[0.3764705882352941,\"rgb(150,27,91)\"],[0.4392156862745098,\"rgb(177,22,88)\"],[0.5019607843137255,\"rgb(203,26,79)\"],[0.5647058823529412,\"rgb(223,47,67)\"],[0.6274509803921569,\"rgb(236,76,61)\"],[0.6901960784313725,\"rgb(242,107,73)\"],[0.7529411764705882,\"rgb(244,135,95)\"],[0.8156862745098039,\"rgb(245,162,122)\"],[0.8784313725490196,\"rgb(246,188,153)\"],[0.9411764705882353,\"rgb(247,212,187)\"],[1.0,\"rgb(250,234,220)\"]]},\"colorway\":[\"rgb(76,114,176)\",\"rgb(221,132,82)\",\"rgb(85,168,104)\",\"rgb(196,78,82)\",\"rgb(129,114,179)\",\"rgb(147,120,96)\",\"rgb(218,139,195)\",\"rgb(140,140,140)\",\"rgb(204,185,116)\",\"rgb(100,181,205)\"],\"font\":{\"color\":\"rgb(36,36,36)\"},\"geo\":{\"bgcolor\":\"white\",\"lakecolor\":\"white\",\"landcolor\":\"rgb(234,234,242)\",\"showlakes\":true,\"showland\":true,\"subunitcolor\":\"white\"},\"hoverlabel\":{\"align\":\"left\"},\"hovermode\":\"closest\",\"paper_bgcolor\":\"white\",\"plot_bgcolor\":\"rgb(234,234,242)\",\"polar\":{\"angularaxis\":{\"gridcolor\":\"white\",\"linecolor\":\"white\",\"showgrid\":true,\"ticks\":\"\"},\"bgcolor\":\"rgb(234,234,242)\",\"radialaxis\":{\"gridcolor\":\"white\",\"linecolor\":\"white\",\"showgrid\":true,\"ticks\":\"\"}},\"scene\":{\"xaxis\":{\"backgroundcolor\":\"rgb(234,234,242)\",\"gridcolor\":\"white\",\"gridwidth\":2,\"linecolor\":\"white\",\"showbackground\":true,\"showgrid\":true,\"ticks\":\"\",\"zerolinecolor\":\"white\"},\"yaxis\":{\"backgroundcolor\":\"rgb(234,234,242)\",\"gridcolor\":\"white\",\"gridwidth\":2,\"linecolor\":\"white\",\"showbackground\":true,\"showgrid\":true,\"ticks\":\"\",\"zerolinecolor\":\"white\"},\"zaxis\":{\"backgroundcolor\":\"rgb(234,234,242)\",\"gridcolor\":\"white\",\"gridwidth\":2,\"linecolor\":\"white\",\"showbackground\":true,\"showgrid\":true,\"ticks\":\"\",\"zerolinecolor\":\"white\"}},\"shapedefaults\":{\"fillcolor\":\"rgb(67,103,167)\",\"line\":{\"width\":0},\"opacity\":0.5},\"ternary\":{\"aaxis\":{\"gridcolor\":\"white\",\"linecolor\":\"white\",\"showgrid\":true,\"ticks\":\"\"},\"baxis\":{\"gridcolor\":\"white\",\"linecolor\":\"white\",\"showgrid\":true,\"ticks\":\"\"},\"bgcolor\":\"rgb(234,234,242)\",\"caxis\":{\"gridcolor\":\"white\",\"linecolor\":\"white\",\"showgrid\":true,\"ticks\":\"\"}},\"xaxis\":{\"automargin\":true,\"gridcolor\":\"white\",\"linecolor\":\"white\",\"showgrid\":true,\"ticks\":\"\",\"title\":{\"standoff\":15},\"zerolinecolor\":\"white\"},\"yaxis\":{\"automargin\":true,\"gridcolor\":\"white\",\"linecolor\":\"white\",\"showgrid\":true,\"ticks\":\"\",\"title\":{\"standoff\":15},\"zerolinecolor\":\"white\"}}},\"xaxis\":{\"anchor\":\"y\",\"domain\":[0.0,1.0],\"title\":{\"text\":\"Median listing price\"}},\"yaxis\":{\"anchor\":\"x\",\"domain\":[0.0,1.0],\"title\":{\"text\":\"Median yield %\"}},\"legend\":{\"tracegroupgap\":0},\"margin\":{\"t\":60}},                        {\"responsive\": true}                    ).then(function(){\n",
       "                            \n",
       "var gd = document.getElementById('fee8dd47-0da6-4ecf-be6f-ce3c8b06ba13');\n",
       "var x = new MutationObserver(function (mutations, observer) {{\n",
       "        var display = window.getComputedStyle(gd).display;\n",
       "        if (!display || display === 'none') {{\n",
       "            console.log([gd, 'removed!']);\n",
       "            Plotly.purge(gd);\n",
       "            observer.disconnect();\n",
       "        }}\n",
       "}});\n",
       "\n",
       "// Listen for the removal of the full notebook cells\n",
       "var notebookContainer = gd.closest('#notebook-container');\n",
       "if (notebookContainer) {{\n",
       "    x.observe(notebookContainer, {childList: true});\n",
       "}}\n",
       "\n",
       "// Listen for the clearing of the current output cell\n",
       "var outputEl = gd.closest('.output');\n",
       "if (outputEl) {{\n",
       "    x.observe(outputEl, {childList: true});\n",
       "}}\n",
       "\n",
       "                        })                };                });            </script>        </div>"
      ]
     },
     "metadata": {},
     "output_type": "display_data"
    }
   ],
   "source": [
    "houses_vic = merge_suburb(df_units, \"Victoria\")\n",
    "px.scatter(\n",
    "    houses_vic, \n",
    "    x=\"Median listing price\", \n",
    "    #y=\"Median weekly rent\",\n",
    "    y=\"Median yield %\",\n",
    "    hover_data={\"Suburb\": True},\n",
    "    template=\"seaborn\"\n",
    ")"
   ]
  },
  {
   "cell_type": "markdown",
   "id": "1cadc8bb",
   "metadata": {},
   "source": [
    "# Choropleth"
   ]
  },
  {
   "cell_type": "code",
   "execution_count": null,
   "id": "7b334734",
   "metadata": {
    "scrolled": true
   },
   "outputs": [],
   "source": [
    "gdf = gpd.read_file(\"C:/Users/yeh/Documents/property_market_analysis/data/SA2_SHP/SA2_2021_AUST_GDA2020.shp\")[[\n",
    "    \"SA2_CODE21\", \"SA2_NAME21\", \"geometry\" \n",
    "]]"
   ]
  },
  {
   "cell_type": "code",
   "execution_count": null,
   "id": "5fcb452e",
   "metadata": {},
   "outputs": [],
   "source": [
    "geojson_data = gdf.to_crs(4326)\n",
    "geojson_data.to_file('geojson_data.geojson', driver='GeoJSON') #SHP to GeoJSON\n",
    "geojson = json.load(open('geojson_data.geojson', 'r'))"
   ]
  },
  {
   "cell_type": "code",
   "execution_count": null,
   "id": "cd51cfad",
   "metadata": {
    "scrolled": true
   },
   "outputs": [],
   "source": [
    "gdf_houses_vic = houses_vic.merge(gdf.reset_index(), left_on=\"Suburb\", right_on=\"SA2_NAME21\")"
   ]
  },
  {
   "cell_type": "code",
   "execution_count": null,
   "id": "fbb16d64",
   "metadata": {
    "scrolled": false
   },
   "outputs": [],
   "source": [
    "# # Create the choropleth map\n",
    "# fig = px.choropleth(\n",
    "#     gdf_houses_vic, \n",
    "#     geojson=geojson, \n",
    "#     locations=\"index\", \n",
    "#     color='Median listing price',\n",
    "#     hover_name='SA2_NAME21', \n",
    "#     hover_data=['Median listing price']\n",
    "# )\n",
    "\n",
    "# # Update map layout to make it more presentable\n",
    "# #fig.update_geos(fitbounds=\"locations\", visible=False)\n",
    "# fig.update_layout(title=\"Victoria\")\n",
    "\n",
    "# # Show the plot\n",
    "# fig.show()"
   ]
  },
  {
   "cell_type": "code",
   "execution_count": null,
   "id": "d202aba8",
   "metadata": {},
   "outputs": [],
   "source": []
  }
 ],
 "metadata": {
  "kernelspec": {
   "display_name": "Python 3 (ipykernel)",
   "language": "python",
   "name": "python3"
  },
  "language_info": {
   "codemirror_mode": {
    "name": "ipython",
    "version": 3
   },
   "file_extension": ".py",
   "mimetype": "text/x-python",
   "name": "python",
   "nbconvert_exporter": "python",
   "pygments_lexer": "ipython3",
   "version": "3.10.11"
  }
 },
 "nbformat": 4,
 "nbformat_minor": 5
}
