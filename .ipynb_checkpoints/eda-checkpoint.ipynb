{
 "cells": [
  {
   "cell_type": "code",
   "execution_count": null,
   "id": "59ffd580",
   "metadata": {},
   "outputs": [],
   "source": [
    "import pandas as pd\n",
    "import json\n",
    "import geopandas as gpd\n",
    "import plotly.express as px\n",
    "import plotly.figure_factory as ff\n",
    "import plotly.graph_objects as go\n",
    "import re\n",
    "import seaborn as sns"
   ]
  },
  {
   "cell_type": "markdown",
   "id": "a82798d5",
   "metadata": {},
   "source": [
    "# Data"
   ]
  },
  {
   "cell_type": "code",
   "execution_count": null,
   "id": "57e58aab",
   "metadata": {
    "scrolled": true
   },
   "outputs": [],
   "source": [
    "df = pd.read_csv(\"df_data_suburbs.csv\")\n",
    "df.head()"
   ]
  },
  {
   "cell_type": "code",
   "execution_count": null,
   "id": "eeafa09c",
   "metadata": {},
   "outputs": [],
   "source": [
    "states = list(df[\"state\"].unique()[:-1])\n",
    "\n",
    "def remove_outliers(df):\n",
    "    \"\"\"Filter outliers.\"\"\"\n",
    "    q1 = df.quantile(0.25)\n",
    "    q3 = df.quantile(0.75)\n",
    "    iqr = q3 - q1\n",
    "    upper_thresh = q3 + 1.5*iqr\n",
    "    \n",
    "    return df[df < upper_thresh]\n",
    "\n",
    "def create_distplot_by_state(stat):\n",
    "    stat_by_state = {state: remove_outliers(df[stat][df[\"state\"] == state].dropna()) for state in states}\n",
    "    \n",
    "    # group data together\n",
    "    hist_data = list(stat_by_state.values())\n",
    "    group_labels = list(stat_by_state.keys())\n",
    "\n",
    "    # create distplot with custom bin_size\n",
    "    fig = ff.create_distplot(hist_data, group_labels, show_hist=False, bin_size=0.1)\n",
    "    fig.update_layout(\n",
    "        title=f\"Suburb {stat.replace('_', ' ').title()} Distribution by State\", \n",
    "        template=\"seaborn\"\n",
    "    )\n",
    "    fig.show()"
   ]
  },
  {
   "cell_type": "code",
   "execution_count": null,
   "id": "3c3196eb",
   "metadata": {},
   "outputs": [],
   "source": [
    "stats = [\"vacancy_rate\", \"rental_stock\", \"population\", \"rental_pop\"]"
   ]
  },
  {
   "cell_type": "code",
   "execution_count": null,
   "id": "fba6f5cc",
   "metadata": {
    "scrolled": false
   },
   "outputs": [],
   "source": [
    "create_distplot_by_state(\"rental_pop\")"
   ]
  },
  {
   "cell_type": "code",
   "execution_count": null,
   "id": "de4e79d1",
   "metadata": {
    "scrolled": false
   },
   "outputs": [],
   "source": [
    "df_filtered = df[df[\"region\"] == \"Monash\"]\n",
    "df_filtered = df[df[\"state\"] == \"Victoria\"]\n",
    "\n",
    "fig = px.scatter(\n",
    "    df_filtered, \n",
    "    x=\"vacancy_rate\", \n",
    "    y=\"rental_stock\",\n",
    "    color=\"state\",\n",
    "    hover_data=['name'],\n",
    "    template=\"seaborn\"\n",
    ")\n",
    "fig.update_layout(\n",
    "    xaxis_range=[-0.5, 10],\n",
    "    yaxis_range=[-2, 100],\n",
    ")"
   ]
  },
  {
   "cell_type": "markdown",
   "id": "97d91890",
   "metadata": {},
   "source": [
    "# Table"
   ]
  },
  {
   "cell_type": "code",
   "execution_count": null,
   "id": "74dd2dd1",
   "metadata": {},
   "outputs": [],
   "source": [
    "df_houses = pd.read_csv(\"df_tables_houses.csv\")"
   ]
  },
  {
   "cell_type": "code",
   "execution_count": null,
   "id": "e661759f",
   "metadata": {
    "scrolled": true
   },
   "outputs": [],
   "source": [
    "suburbs = df[\"name\"][df[\"state\"] == \"Victoria\"].unique()"
   ]
  },
  {
   "cell_type": "code",
   "execution_count": null,
   "id": "a8c14f69",
   "metadata": {},
   "outputs": [],
   "source": [
    "houses_vic = df_houses[df_houses[\"Suburb\"].isin(suburbs)].merge(df, left_on='Suburb', right_on='name')\n",
    "houses_vic.head()"
   ]
  },
  {
   "cell_type": "code",
   "execution_count": null,
   "id": "8dd1be7c",
   "metadata": {},
   "outputs": [],
   "source": [
    "px.scatter(\n",
    "    houses_vic, \n",
    "    x=\"Median listing price\", \n",
    "    #y=\"Median weekly rent\",\n",
    "    y=\"Median yield %\",\n",
    "    hover_data={\"Suburb\": True},\n",
    "    template=\"seaborn\"\n",
    ")"
   ]
  },
  {
   "cell_type": "markdown",
   "id": "1cadc8bb",
   "metadata": {},
   "source": [
    "# Choropleth"
   ]
  },
  {
   "cell_type": "code",
   "execution_count": null,
   "id": "7b334734",
   "metadata": {
    "scrolled": true
   },
   "outputs": [],
   "source": [
    "gdf = gpd.read_file(\"C:/Users/yeh/Documents/property_market_analysis/data/SA2_SHP/SA2_2021_AUST_GDA2020.shp\")[[\n",
    "    \"SA2_CODE21\", \"SA2_NAME21\", \"geometry\" \n",
    "]]"
   ]
  },
  {
   "cell_type": "code",
   "execution_count": null,
   "id": "5fcb452e",
   "metadata": {},
   "outputs": [],
   "source": [
    "geojson_data = gdf.to_crs(4326)\n",
    "geojson_data.to_file('geojson_data.geojson', driver='GeoJSON') #SHP to GeoJSON\n",
    "geojson = json.load(open('geojson_data.geojson', 'r'))"
   ]
  },
  {
   "cell_type": "code",
   "execution_count": null,
   "id": "cd51cfad",
   "metadata": {
    "scrolled": true
   },
   "outputs": [],
   "source": [
    "gdf_houses_vic = houses_vic.merge(gdf.reset_index(), left_on=\"Suburb\", right_on=\"SA2_NAME21\")"
   ]
  },
  {
   "cell_type": "code",
   "execution_count": null,
   "id": "fbb16d64",
   "metadata": {
    "scrolled": false
   },
   "outputs": [],
   "source": [
    "# # Create the choropleth map\n",
    "# fig = px.choropleth(\n",
    "#     gdf_houses_vic, \n",
    "#     geojson=geojson, \n",
    "#     locations=\"index\", \n",
    "#     color='Median listing price',\n",
    "#     hover_name='SA2_NAME21', \n",
    "#     hover_data=['Median listing price']\n",
    "# )\n",
    "\n",
    "# # Update map layout to make it more presentable\n",
    "# #fig.update_geos(fitbounds=\"locations\", visible=False)\n",
    "# fig.update_layout(title=\"Victoria\")\n",
    "\n",
    "# # Show the plot\n",
    "# fig.show()"
   ]
  },
  {
   "cell_type": "code",
   "execution_count": null,
   "id": "917a43dc",
   "metadata": {},
   "outputs": [],
   "source": []
  }
 ],
 "metadata": {
  "kernelspec": {
   "display_name": "Python 3 (ipykernel)",
   "language": "python",
   "name": "python3"
  },
  "language_info": {
   "codemirror_mode": {
    "name": "ipython",
    "version": 3
   },
   "file_extension": ".py",
   "mimetype": "text/x-python",
   "name": "python",
   "nbconvert_exporter": "python",
   "pygments_lexer": "ipython3",
   "version": "3.10.11"
  }
 },
 "nbformat": 4,
 "nbformat_minor": 5
}
