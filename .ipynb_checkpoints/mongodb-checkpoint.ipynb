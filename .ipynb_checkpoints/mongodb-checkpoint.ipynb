{
 "cells": [
  {
   "cell_type": "code",
   "execution_count": 51,
   "id": "f3d7cdae",
   "metadata": {},
   "outputs": [
    {
     "name": "stdout",
     "output_type": "stream",
     "text": [
      "Pinged your deployment. You successfully connected to MongoDB!\n"
     ]
    }
   ],
   "source": [
    "import pandas as pd\n",
    "from pymongo.mongo_client import MongoClient\n",
    "from pymongo.server_api import ServerApi\n",
    "from dotenv import load_dotenv\n",
    "import os\n",
    "\n",
    "load_dotenv()\n",
    "uri = os.getenv('DATABASE_URL')\n",
    "\n",
    "# Create a new client and connect to the server\n",
    "client = MongoClient(uri, server_api=ServerApi('1'))\n",
    "\n",
    "# Send a ping to confirm a successful connection\n",
    "try:\n",
    "    client.admin.command('ping')\n",
    "    print(\"Pinged your deployment. You successfully connected to MongoDB!\")\n",
    "except Exception as e:\n",
    "    print(e)"
   ]
  },
  {
   "cell_type": "code",
   "execution_count": 10,
   "id": "3bf83948",
   "metadata": {},
   "outputs": [],
   "source": [
    "db = client[\"sample_mflix\"]"
   ]
  },
  {
   "cell_type": "code",
   "execution_count": 13,
   "id": "98703fc1",
   "metadata": {},
   "outputs": [],
   "source": [
    "comments = db[\"comments\"]"
   ]
  },
  {
   "cell_type": "code",
   "execution_count": 21,
   "id": "13ad19e2",
   "metadata": {},
   "outputs": [],
   "source": [
    "cm = comments.find_one()"
   ]
  },
  {
   "cell_type": "code",
   "execution_count": 38,
   "id": "00c75b7b",
   "metadata": {},
   "outputs": [
    {
     "data": {
      "text/plain": [
       "{'_id': ObjectId('5a9427648b0beebeb69579e7'),\n",
       " 'name': 'Mercedes Tyler',\n",
       " 'email': 'mercedes_tyler@fakegmail.com',\n",
       " 'movie_id': ObjectId('573a1390f29313caabcd4323'),\n",
       " 'text': 'Eius veritatis vero facilis quaerat fuga temporibus. Praesentium expedita sequi repellat id. Corporis minima enim ex. Provident fugit nisi dignissimos nulla nam ipsum aliquam.',\n",
       " 'date': datetime.datetime(2002, 8, 18, 4, 56, 7)}"
      ]
     },
     "execution_count": 38,
     "metadata": {},
     "output_type": "execute_result"
    }
   ],
   "source": [
    "cm"
   ]
  },
  {
   "cell_type": "code",
   "execution_count": 26,
   "id": "87431266",
   "metadata": {},
   "outputs": [
    {
     "data": {
      "text/html": [
       "<div>\n",
       "<style scoped>\n",
       "    .dataframe tbody tr th:only-of-type {\n",
       "        vertical-align: middle;\n",
       "    }\n",
       "\n",
       "    .dataframe tbody tr th {\n",
       "        vertical-align: top;\n",
       "    }\n",
       "\n",
       "    .dataframe thead th {\n",
       "        text-align: right;\n",
       "    }\n",
       "</style>\n",
       "<table border=\"1\" class=\"dataframe\">\n",
       "  <thead>\n",
       "    <tr style=\"text-align: right;\">\n",
       "      <th></th>\n",
       "      <th>_id</th>\n",
       "      <th>name</th>\n",
       "      <th>email</th>\n",
       "      <th>movie_id</th>\n",
       "      <th>text</th>\n",
       "      <th>date</th>\n",
       "    </tr>\n",
       "  </thead>\n",
       "  <tbody>\n",
       "    <tr>\n",
       "      <th>0</th>\n",
       "      <td>5a9427648b0beebeb69579e7</td>\n",
       "      <td>Mercedes Tyler</td>\n",
       "      <td>mercedes_tyler@fakegmail.com</td>\n",
       "      <td>573a1390f29313caabcd4323</td>\n",
       "      <td>Eius veritatis vero facilis quaerat fuga tempo...</td>\n",
       "      <td>2002-08-18 04:56:07</td>\n",
       "    </tr>\n",
       "  </tbody>\n",
       "</table>\n",
       "</div>"
      ],
      "text/plain": [
       "                        _id            name                         email  \\\n",
       "0  5a9427648b0beebeb69579e7  Mercedes Tyler  mercedes_tyler@fakegmail.com   \n",
       "\n",
       "                   movie_id  \\\n",
       "0  573a1390f29313caabcd4323   \n",
       "\n",
       "                                                text                date  \n",
       "0  Eius veritatis vero facilis quaerat fuga tempo... 2002-08-18 04:56:07  "
      ]
     },
     "execution_count": 26,
     "metadata": {},
     "output_type": "execute_result"
    }
   ],
   "source": [
    "pd.DataFrame(cm, index=[0])"
   ]
  },
  {
   "cell_type": "code",
   "execution_count": 28,
   "id": "32936a7d",
   "metadata": {},
   "outputs": [],
   "source": [
    "import pickle\n",
    "with open(\"tables.pickle\", \"rb\") as f:\n",
    "    tables = pickle.load(f)"
   ]
  },
  {
   "cell_type": "code",
   "execution_count": 35,
   "id": "db976e60",
   "metadata": {},
   "outputs": [],
   "source": [
    "testp = db.create_collection(\"testp\")"
   ]
  },
  {
   "cell_type": "code",
   "execution_count": 44,
   "id": "627995d9",
   "metadata": {},
   "outputs": [
    {
     "data": {
      "text/plain": [
       "{'Metric': ['Median listing price',\n",
       "  'Median price change - last quarter',\n",
       "  'Median price change - 1 year',\n",
       "  'Median price change - 2 years'],\n",
       " 'House': ['$789,000', '-1.26%', '-2.84%', '13.19%'],\n",
       " 'Townhouses': ['NA', 'NA', 'NA', 'NA'],\n",
       " 'Units': ['NA', 'NA', 'NA', 'NA']}"
      ]
     },
     "execution_count": 44,
     "metadata": {},
     "output_type": "execute_result"
    }
   ],
   "source": [
    "to_add = tables[\"braidwood\"][\"median\"].to_dict(orient=\"list\")\n",
    "to_add"
   ]
  },
  {
   "cell_type": "code",
   "execution_count": 47,
   "id": "35a0c75d",
   "metadata": {},
   "outputs": [
    {
     "name": "stdout",
     "output_type": "stream",
     "text": [
      "Inserted document ID: 67fb4ccca252d597adb1e270\n"
     ]
    }
   ],
   "source": [
    "print(f\"Inserted document ID: {result.inserted_id}\")"
   ]
  },
  {
   "cell_type": "code",
   "execution_count": 46,
   "id": "d45fa402",
   "metadata": {},
   "outputs": [],
   "source": [
    "result = testp.insert_one(to_add)"
   ]
  }
 ],
 "metadata": {
  "kernelspec": {
   "display_name": "Python 3 (ipykernel)",
   "language": "python",
   "name": "python3"
  },
  "language_info": {
   "codemirror_mode": {
    "name": "ipython",
    "version": 3
   },
   "file_extension": ".py",
   "mimetype": "text/x-python",
   "name": "python",
   "nbconvert_exporter": "python",
   "pygments_lexer": "ipython3",
   "version": "3.10.11"
  }
 },
 "nbformat": 4,
 "nbformat_minor": 5
}
