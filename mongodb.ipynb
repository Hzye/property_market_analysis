{
 "cells": [
  {
   "cell_type": "code",
   "execution_count": 42,
   "id": "f3d7cdae",
   "metadata": {},
   "outputs": [],
   "source": [
    "import pandas as pd\n",
    "from pymongo.mongo_client import MongoClient\n",
    "from pymongo.server_api import ServerApi\n",
    "from dotenv import load_dotenv\n",
    "import os\n",
    "from datetime import datetime\n",
    "import pickle\n",
    "from src.utils.database import add_to_collection\n",
    "\n",
    "load_dotenv()\n",
    "uri = os.getenv('MONGO_URL')"
   ]
  },
  {
   "cell_type": "code",
   "execution_count": 2,
   "id": "9541745b",
   "metadata": {},
   "outputs": [
    {
     "name": "stdout",
     "output_type": "stream",
     "text": [
      "Pinged your deployment. You successfully connected to MongoDB!\n"
     ]
    }
   ],
   "source": [
    "# Create a new client and connect to the server\n",
    "client = MongoClient(uri, server_api=ServerApi('1'))\n",
    "\n",
    "# Send a ping to confirm a successful connection\n",
    "try:\n",
    "    client.admin.command('ping')\n",
    "    print(\"Pinged your deployment. You successfully connected to MongoDB!\")\n",
    "except Exception as e:\n",
    "    print(e)"
   ]
  },
  {
   "cell_type": "code",
   "execution_count": 3,
   "id": "3bf83948",
   "metadata": {},
   "outputs": [],
   "source": [
    "db = client[\"aus_prop\"]"
   ]
  },
  {
   "cell_type": "code",
   "execution_count": 43,
   "id": "c73c9bcb",
   "metadata": {},
   "outputs": [],
   "source": [
    "collection_names = [\n",
    "    \"data_suburbs\",\n",
    "    \"data_regions\",\n",
    "    \"data_states\",\n",
    "    \"tables_houses\",\n",
    "    \"tables_town_houses\",\n",
    "    \"tables_units\"\n",
    "]"
   ]
  },
  {
   "cell_type": "code",
   "execution_count": 51,
   "id": "181dcaf0",
   "metadata": {},
   "outputs": [],
   "source": [
    "with open(\"TEMP_STORE_AUG.pkl\", \"rb\") as f:\n",
    "    april = pickle.load(f)"
   ]
  },
  {
   "cell_type": "code",
   "execution_count": 52,
   "id": "3cbd4414",
   "metadata": {},
   "outputs": [],
   "source": [
    "for (collection_name, df) in zip(collection_names, april):\n",
    "    add_to_collection(db, collection_name, df.reset_index())"
   ]
  },
  {
   "cell_type": "code",
   "execution_count": 59,
   "id": "b3482658",
   "metadata": {},
   "outputs": [
    {
     "data": {
      "text/html": [
       "<div>\n",
       "<style scoped>\n",
       "    .dataframe tbody tr th:only-of-type {\n",
       "        vertical-align: middle;\n",
       "    }\n",
       "\n",
       "    .dataframe tbody tr th {\n",
       "        vertical-align: top;\n",
       "    }\n",
       "\n",
       "    .dataframe thead th {\n",
       "        text-align: right;\n",
       "    }\n",
       "</style>\n",
       "<table border=\"1\" class=\"dataframe\">\n",
       "  <thead>\n",
       "    <tr style=\"text-align: right;\">\n",
       "      <th></th>\n",
       "      <th>_id</th>\n",
       "      <th>Date</th>\n",
       "      <th>name</th>\n",
       "      <th>vacancy_rate</th>\n",
       "      <th>rental_stock</th>\n",
       "      <th>population</th>\n",
       "      <th>rental_pop</th>\n",
       "      <th>region</th>\n",
       "      <th>state</th>\n",
       "    </tr>\n",
       "  </thead>\n",
       "  <tbody>\n",
       "    <tr>\n",
       "      <th>371</th>\n",
       "      <td>6801df212848fa1da93c01c4</td>\n",
       "      <td>2025-03-01</td>\n",
       "      <td>Box Hill</td>\n",
       "      <td>3.84</td>\n",
       "      <td>340</td>\n",
       "      <td>11391.0</td>\n",
       "      <td>48.8</td>\n",
       "      <td>Whitehorse</td>\n",
       "      <td>Victoria</td>\n",
       "    </tr>\n",
       "    <tr>\n",
       "      <th>3132</th>\n",
       "      <td>6801e4a72848fa1da93c5b11</td>\n",
       "      <td>2025-04-01</td>\n",
       "      <td>Box Hill</td>\n",
       "      <td>3.65</td>\n",
       "      <td>324</td>\n",
       "      <td>11391.0</td>\n",
       "      <td>48.8</td>\n",
       "      <td>Whitehorse</td>\n",
       "      <td>Victoria</td>\n",
       "    </tr>\n",
       "    <tr>\n",
       "      <th>5817</th>\n",
       "      <td>68a45243e5c12521ee650c85</td>\n",
       "      <td>2025-05-01</td>\n",
       "      <td>Box Hill</td>\n",
       "      <td>2.86</td>\n",
       "      <td>254</td>\n",
       "      <td>11391.0</td>\n",
       "      <td>48.8</td>\n",
       "      <td>Whitehorse</td>\n",
       "      <td>Victoria</td>\n",
       "    </tr>\n",
       "    <tr>\n",
       "      <th>8577</th>\n",
       "      <td>68a452eee5c12521ee653953</td>\n",
       "      <td>2025-06-01</td>\n",
       "      <td>Box Hill</td>\n",
       "      <td>2.57</td>\n",
       "      <td>228</td>\n",
       "      <td>11391.0</td>\n",
       "      <td>48.8</td>\n",
       "      <td>Whitehorse</td>\n",
       "      <td>Victoria</td>\n",
       "    </tr>\n",
       "    <tr>\n",
       "      <th>11338</th>\n",
       "      <td>68a45319e5c12521ee656622</td>\n",
       "      <td>2025-07-01</td>\n",
       "      <td>Box Hill</td>\n",
       "      <td>2.57</td>\n",
       "      <td>228</td>\n",
       "      <td>11391.0</td>\n",
       "      <td>48.8</td>\n",
       "      <td>Whitehorse</td>\n",
       "      <td>Victoria</td>\n",
       "    </tr>\n",
       "    <tr>\n",
       "      <th>14099</th>\n",
       "      <td>68a4533fe5c12521ee6592f1</td>\n",
       "      <td>2025-08-01</td>\n",
       "      <td>Box Hill</td>\n",
       "      <td>2.57</td>\n",
       "      <td>228</td>\n",
       "      <td>11391.0</td>\n",
       "      <td>48.8</td>\n",
       "      <td>Whitehorse</td>\n",
       "      <td>Victoria</td>\n",
       "    </tr>\n",
       "  </tbody>\n",
       "</table>\n",
       "</div>"
      ],
      "text/plain": [
       "                            _id       Date      name  vacancy_rate  \\\n",
       "371    6801df212848fa1da93c01c4 2025-03-01  Box Hill          3.84   \n",
       "3132   6801e4a72848fa1da93c5b11 2025-04-01  Box Hill          3.65   \n",
       "5817   68a45243e5c12521ee650c85 2025-05-01  Box Hill          2.86   \n",
       "8577   68a452eee5c12521ee653953 2025-06-01  Box Hill          2.57   \n",
       "11338  68a45319e5c12521ee656622 2025-07-01  Box Hill          2.57   \n",
       "14099  68a4533fe5c12521ee6592f1 2025-08-01  Box Hill          2.57   \n",
       "\n",
       "       rental_stock  population  rental_pop      region     state  \n",
       "371             340     11391.0        48.8  Whitehorse  Victoria  \n",
       "3132            324     11391.0        48.8  Whitehorse  Victoria  \n",
       "5817            254     11391.0        48.8  Whitehorse  Victoria  \n",
       "8577            228     11391.0        48.8  Whitehorse  Victoria  \n",
       "11338           228     11391.0        48.8  Whitehorse  Victoria  \n",
       "14099           228     11391.0        48.8  Whitehorse  Victoria  "
      ]
     },
     "execution_count": 59,
     "metadata": {},
     "output_type": "execute_result"
    }
   ],
   "source": [
    "collection = db[\"data_suburbs\"]\n",
    "all_docs = list(collection.find())\n",
    "df = pd.DataFrame(all_docs)\n",
    "df.query(\"name == 'Box Hill'\")"
   ]
  },
  {
   "cell_type": "code",
   "execution_count": null,
   "id": "b8111c58",
   "metadata": {},
   "outputs": [],
   "source": []
  },
  {
   "cell_type": "code",
   "execution_count": null,
   "id": "89b49d77",
   "metadata": {},
   "outputs": [],
   "source": []
  },
  {
   "cell_type": "code",
   "execution_count": null,
   "id": "ee016aa2",
   "metadata": {},
   "outputs": [],
   "source": []
  },
  {
   "cell_type": "code",
   "execution_count": 98,
   "id": "27e98cab",
   "metadata": {},
   "outputs": [],
   "source": [
    "df03 = pd.read_csv(os.path.join(\"data_inv\", \"202503\", \"df_data_suburbs.csv\"))\n",
    "df04 = pd.read_csv(os.path.join(\"data_inv\", \"202504\", \"df_data_suburbs.csv\"))"
   ]
  },
  {
   "cell_type": "code",
   "execution_count": 102,
   "id": "7aa54057",
   "metadata": {},
   "outputs": [
    {
     "data": {
      "text/plain": [
       "'202504'"
      ]
     },
     "execution_count": 102,
     "metadata": {},
     "output_type": "execute_result"
    }
   ],
   "source": [
    "date"
   ]
  },
  {
   "cell_type": "code",
   "execution_count": 104,
   "id": "0a928a56",
   "metadata": {},
   "outputs": [],
   "source": [
    "for name in [\"df_data_regions.csv\", \"df_data_states.csv\", \"df_data_suburbs.csv\"]:\n",
    "    df = pd.read_csv(os.path.join(\"data_inv\", date, name))\n",
    "    df[\"Date\"] = datetime.strptime(date, \"%Y%m\")\n",
    "    df = df[[\"Date\"] + [x for x in df.columns if \"Date\" not in x]]\n",
    "\n",
    "    collection = db[name.split(\"_\", 1)[-1].split(\".\")[0]]\n",
    "    collection.insert_many(df.to_dict(\"index\").values())"
   ]
  },
  {
   "cell_type": "code",
   "execution_count": 97,
   "id": "ae297977",
   "metadata": {},
   "outputs": [],
   "source": [
    "for name in [\"data_regions\", \"data_states\", \"data_suburbs\"]:\n",
    "    collection = db[name]\n",
    "    query = {\"Date\": datetime.strptime(\"202504\", \"%Y%m\")}\n",
    "    result = collection.delete_many(query)"
   ]
  },
  {
   "cell_type": "code",
   "execution_count": 39,
   "id": "d45fa402",
   "metadata": {},
   "outputs": [],
   "source": [
    "collection = db[\"locations\"]"
   ]
  },
  {
   "cell_type": "code",
   "execution_count": 43,
   "id": "e2516dbf",
   "metadata": {},
   "outputs": [],
   "source": [
    "data = df.to_dict(\"index\")"
   ]
  }
 ],
 "metadata": {
  "kernelspec": {
   "display_name": "Python 3 (ipykernel)",
   "language": "python",
   "name": "python3"
  },
  "language_info": {
   "codemirror_mode": {
    "name": "ipython",
    "version": 3
   },
   "file_extension": ".py",
   "mimetype": "text/x-python",
   "name": "python",
   "nbconvert_exporter": "python",
   "pygments_lexer": "ipython3",
   "version": "3.9.5"
  }
 },
 "nbformat": 4,
 "nbformat_minor": 5
}
