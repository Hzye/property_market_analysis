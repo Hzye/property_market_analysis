{
 "cells": [
  {
   "cell_type": "code",
   "execution_count": 62,
   "id": "f3d7cdae",
   "metadata": {},
   "outputs": [
    {
     "name": "stdout",
     "output_type": "stream",
     "text": [
      "Pinged your deployment. You successfully connected to MongoDB!\n"
     ]
    }
   ],
   "source": [
    "import pandas as pd\n",
    "from pymongo.mongo_client import MongoClient\n",
    "from pymongo.server_api import ServerApi\n",
    "from dotenv import load_dotenv\n",
    "import os\n",
    "from datetime import datetime\n",
    "\n",
    "load_dotenv()\n",
    "uri = os.getenv('DATABASE_URL')\n",
    "\n",
    "# Create a new client and connect to the server\n",
    "client = MongoClient(uri, server_api=ServerApi('1'))\n",
    "\n",
    "# Send a ping to confirm a successful connection\n",
    "try:\n",
    "    client.admin.command('ping')\n",
    "    print(\"Pinged your deployment. You successfully connected to MongoDB!\")\n",
    "except Exception as e:\n",
    "    print(e)"
   ]
  },
  {
   "cell_type": "code",
   "execution_count": 52,
   "id": "3bf83948",
   "metadata": {},
   "outputs": [],
   "source": [
    "db = client[\"aus_prop\"]"
   ]
  },
  {
   "cell_type": "code",
   "execution_count": 56,
   "id": "4722000a",
   "metadata": {},
   "outputs": [],
   "source": [
    "dates = [x for x in os.listdir(\"data_inv\") if \"location\" not in x]\n",
    "dfs = [x for x in os.listdir(f\"data_inv/{dates[0]}\")]"
   ]
  },
  {
   "cell_type": "code",
   "execution_count": 83,
   "id": "a4af95a2",
   "metadata": {},
   "outputs": [
    {
     "data": {
      "text/plain": [
       "['df_data_regions.csv',\n",
       " 'df_data_states.csv',\n",
       " 'df_data_suburbs.csv',\n",
       " 'df_tables_houses.csv',\n",
       " 'df_tables_town_houses.csv',\n",
       " 'df_tables_units.csv']"
      ]
     },
     "execution_count": 83,
     "metadata": {},
     "output_type": "execute_result"
    }
   ],
   "source": [
    "dfs"
   ]
  },
  {
   "cell_type": "code",
   "execution_count": 98,
   "id": "27e98cab",
   "metadata": {},
   "outputs": [],
   "source": [
    "df03 = pd.read_csv(os.path.join(\"data_inv\", \"202503\", \"df_data_suburbs.csv\"))\n",
    "df04 = pd.read_csv(os.path.join(\"data_inv\", \"202504\", \"df_data_suburbs.csv\"))"
   ]
  },
  {
   "cell_type": "code",
   "execution_count": 102,
   "id": "7aa54057",
   "metadata": {},
   "outputs": [
    {
     "data": {
      "text/plain": [
       "'202504'"
      ]
     },
     "execution_count": 102,
     "metadata": {},
     "output_type": "execute_result"
    }
   ],
   "source": [
    "date"
   ]
  },
  {
   "cell_type": "code",
   "execution_count": 104,
   "id": "0a928a56",
   "metadata": {},
   "outputs": [],
   "source": [
    "for name in [\"df_data_regions.csv\", \"df_data_states.csv\", \"df_data_suburbs.csv\"]:\n",
    "    df = pd.read_csv(os.path.join(\"data_inv\", date, name))\n",
    "    df[\"Date\"] = datetime.strptime(date, \"%Y%m\")\n",
    "    df = df[[\"Date\"] + [x for x in df.columns if \"Date\" not in x]]\n",
    "\n",
    "    collection = db[name.split(\"_\", 1)[-1].split(\".\")[0]]\n",
    "    collection.insert_many(df.to_dict(\"index\").values())"
   ]
  },
  {
   "cell_type": "code",
   "execution_count": 97,
   "id": "ae297977",
   "metadata": {},
   "outputs": [],
   "source": [
    "for name in [\"data_regions\", \"data_states\", \"data_suburbs\"]:\n",
    "    collection = db[name]\n",
    "    query = {\"Date\": datetime.strptime(\"202504\", \"%Y%m\")}\n",
    "    result = collection.delete_many(query)"
   ]
  },
  {
   "cell_type": "code",
   "execution_count": 39,
   "id": "d45fa402",
   "metadata": {},
   "outputs": [],
   "source": [
    "collection = db[\"locations\"]"
   ]
  },
  {
   "cell_type": "code",
   "execution_count": 43,
   "id": "e2516dbf",
   "metadata": {},
   "outputs": [],
   "source": [
    "data = df.to_dict(\"index\")"
   ]
  }
 ],
 "metadata": {
  "kernelspec": {
   "display_name": "Python 3 (ipykernel)",
   "language": "python",
   "name": "python3"
  },
  "language_info": {
   "codemirror_mode": {
    "name": "ipython",
    "version": 3
   },
   "file_extension": ".py",
   "mimetype": "text/x-python",
   "name": "python",
   "nbconvert_exporter": "python",
   "pygments_lexer": "ipython3",
   "version": "3.10.11"
  }
 },
 "nbformat": 4,
 "nbformat_minor": 5
}
